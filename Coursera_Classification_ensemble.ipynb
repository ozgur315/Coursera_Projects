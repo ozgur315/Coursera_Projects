{
 "cells": [
  {
   "cell_type": "markdown",
   "id": "0660e1c7",
   "metadata": {},
   "source": [
    "Coursera project for Classification \n",
    "AU:Ozgur Gulari\n",
    "\n",
    "Objective:\n",
    "The main objective of my project is to focus on predicting. \n",
    "Based on the given information define if the wine is good or not. \n",
    "\n",
    "Dependent variable : column good(boolean: 1 as True\n",
    "                                          0 as False)\n",
    "                                          \n"
   ]
  },
  {
   "cell_type": "code",
   "execution_count": 1,
   "id": "3d7f4cdf",
   "metadata": {},
   "outputs": [
    {
     "data": {
      "text/html": [
       "<style>.container { width:80% !important; }</style>"
      ],
      "text/plain": [
       "<IPython.core.display.HTML object>"
      ]
     },
     "metadata": {},
     "output_type": "display_data"
    }
   ],
   "source": [
    "from IPython.display import display, HTML\n",
    "display(HTML(\"<style>.container { width:80% !important; }</style>\"))\n",
    "\n",
    "# Import necessary libraries\n",
    "import pandas as pd\n",
    "import numpy as np\n",
    "import matplotlib.pyplot as plt\n",
    "import seaborn as sns\n",
    "\n",
    "# for multicollinearity\n",
    "from statsmodels.stats.outliers_influence import variance_inflation_factor\n",
    "from statsmodels.tools.tools import add_constant\n",
    "\n",
    "# Scaler\n",
    "from sklearn.preprocessing import StandardScaler\n",
    "# For holdout\n",
    "from sklearn.model_selection import train_test_split, GridSearchCV\n",
    "# For logit\n",
    "from sklearn.linear_model import LogisticRegression\n",
    "# For Random Forest\n",
    "from sklearn.ensemble import RandomForestClassifier\n",
    "#for using Decision Tree Algoithm\n",
    "from sklearn.tree import DecisionTreeClassifier \n",
    "#for Support Vector Machine (SVM) Algorithm\n",
    "from sklearn import svm  \n",
    "# for K nearest neighbours\n",
    "from sklearn.neighbors import KNeighborsClassifier  \n",
    "# For additional metrics\n",
    "from sklearn.metrics import accuracy_score, precision_score, recall_score, f1_score, roc_auc_score, roc_curve, auc, confusion_matrix, ConfusionMatrixDisplay, classification_report\n",
    "\n",
    "\n",
    "\n",
    "import warnings\n",
    "# Ignore all warnings\n",
    "warnings.filterwarnings(\"ignore\")\n",
    "\n",
    "np.set_printoptions(suppress = True, formatter = {'float_kind':'{:f}'.format})\n",
    "pd.set_option('display.float_format', lambda x: '%.3f' % x)"
   ]
  },
  {
   "cell_type": "code",
   "execution_count": 2,
   "id": "8eaef3a2",
   "metadata": {},
   "outputs": [],
   "source": [
    "# Read Data\n",
    "# DATA source : https://www.kaggle.com/datasets/uciml/red-wine-quality-cortez-et-al-2009/\n",
    "\n",
    "wine_data = pd.read_csv('winequality_red.csv')"
   ]
  },
  {
   "cell_type": "code",
   "execution_count": 3,
   "id": "e537a600",
   "metadata": {},
   "outputs": [
    {
     "data": {
      "text/html": [
       "<div>\n",
       "<style scoped>\n",
       "    .dataframe tbody tr th:only-of-type {\n",
       "        vertical-align: middle;\n",
       "    }\n",
       "\n",
       "    .dataframe tbody tr th {\n",
       "        vertical-align: top;\n",
       "    }\n",
       "\n",
       "    .dataframe thead th {\n",
       "        text-align: right;\n",
       "    }\n",
       "</style>\n",
       "<table border=\"1\" class=\"dataframe\">\n",
       "  <thead>\n",
       "    <tr style=\"text-align: right;\">\n",
       "      <th></th>\n",
       "      <th>count</th>\n",
       "      <th>mean</th>\n",
       "      <th>std</th>\n",
       "      <th>min</th>\n",
       "      <th>25%</th>\n",
       "      <th>50%</th>\n",
       "      <th>75%</th>\n",
       "      <th>max</th>\n",
       "    </tr>\n",
       "  </thead>\n",
       "  <tbody>\n",
       "    <tr>\n",
       "      <th>fixed_acidity</th>\n",
       "      <td>1599.000</td>\n",
       "      <td>8.320</td>\n",
       "      <td>1.741</td>\n",
       "      <td>4.600</td>\n",
       "      <td>7.100</td>\n",
       "      <td>7.900</td>\n",
       "      <td>9.200</td>\n",
       "      <td>15.900</td>\n",
       "    </tr>\n",
       "    <tr>\n",
       "      <th>volatile_acidity</th>\n",
       "      <td>1599.000</td>\n",
       "      <td>0.528</td>\n",
       "      <td>0.179</td>\n",
       "      <td>0.120</td>\n",
       "      <td>0.390</td>\n",
       "      <td>0.520</td>\n",
       "      <td>0.640</td>\n",
       "      <td>1.580</td>\n",
       "    </tr>\n",
       "    <tr>\n",
       "      <th>citric_acid</th>\n",
       "      <td>1599.000</td>\n",
       "      <td>0.271</td>\n",
       "      <td>0.195</td>\n",
       "      <td>0.000</td>\n",
       "      <td>0.090</td>\n",
       "      <td>0.260</td>\n",
       "      <td>0.420</td>\n",
       "      <td>1.000</td>\n",
       "    </tr>\n",
       "    <tr>\n",
       "      <th>residual_sugar</th>\n",
       "      <td>1599.000</td>\n",
       "      <td>2.539</td>\n",
       "      <td>1.410</td>\n",
       "      <td>0.900</td>\n",
       "      <td>1.900</td>\n",
       "      <td>2.200</td>\n",
       "      <td>2.600</td>\n",
       "      <td>15.500</td>\n",
       "    </tr>\n",
       "    <tr>\n",
       "      <th>chlorides</th>\n",
       "      <td>1599.000</td>\n",
       "      <td>0.087</td>\n",
       "      <td>0.047</td>\n",
       "      <td>0.012</td>\n",
       "      <td>0.070</td>\n",
       "      <td>0.079</td>\n",
       "      <td>0.090</td>\n",
       "      <td>0.611</td>\n",
       "    </tr>\n",
       "    <tr>\n",
       "      <th>free_sulfur_dioxide</th>\n",
       "      <td>1599.000</td>\n",
       "      <td>15.875</td>\n",
       "      <td>10.460</td>\n",
       "      <td>1.000</td>\n",
       "      <td>7.000</td>\n",
       "      <td>14.000</td>\n",
       "      <td>21.000</td>\n",
       "      <td>72.000</td>\n",
       "    </tr>\n",
       "    <tr>\n",
       "      <th>total_sulfur_dioxide</th>\n",
       "      <td>1599.000</td>\n",
       "      <td>46.468</td>\n",
       "      <td>32.895</td>\n",
       "      <td>6.000</td>\n",
       "      <td>22.000</td>\n",
       "      <td>38.000</td>\n",
       "      <td>62.000</td>\n",
       "      <td>289.000</td>\n",
       "    </tr>\n",
       "    <tr>\n",
       "      <th>density</th>\n",
       "      <td>1599.000</td>\n",
       "      <td>0.997</td>\n",
       "      <td>0.002</td>\n",
       "      <td>0.990</td>\n",
       "      <td>0.996</td>\n",
       "      <td>0.997</td>\n",
       "      <td>0.998</td>\n",
       "      <td>1.004</td>\n",
       "    </tr>\n",
       "    <tr>\n",
       "      <th>pH</th>\n",
       "      <td>1599.000</td>\n",
       "      <td>3.311</td>\n",
       "      <td>0.154</td>\n",
       "      <td>2.740</td>\n",
       "      <td>3.210</td>\n",
       "      <td>3.310</td>\n",
       "      <td>3.400</td>\n",
       "      <td>4.010</td>\n",
       "    </tr>\n",
       "    <tr>\n",
       "      <th>sulphates</th>\n",
       "      <td>1599.000</td>\n",
       "      <td>0.658</td>\n",
       "      <td>0.170</td>\n",
       "      <td>0.330</td>\n",
       "      <td>0.550</td>\n",
       "      <td>0.620</td>\n",
       "      <td>0.730</td>\n",
       "      <td>2.000</td>\n",
       "    </tr>\n",
       "    <tr>\n",
       "      <th>alcohol</th>\n",
       "      <td>1599.000</td>\n",
       "      <td>10.423</td>\n",
       "      <td>1.066</td>\n",
       "      <td>8.400</td>\n",
       "      <td>9.500</td>\n",
       "      <td>10.200</td>\n",
       "      <td>11.100</td>\n",
       "      <td>14.900</td>\n",
       "    </tr>\n",
       "    <tr>\n",
       "      <th>good</th>\n",
       "      <td>1599.000</td>\n",
       "      <td>0.136</td>\n",
       "      <td>0.343</td>\n",
       "      <td>0.000</td>\n",
       "      <td>0.000</td>\n",
       "      <td>0.000</td>\n",
       "      <td>0.000</td>\n",
       "      <td>1.000</td>\n",
       "    </tr>\n",
       "  </tbody>\n",
       "</table>\n",
       "</div>"
      ],
      "text/plain": [
       "                        count   mean    std   min    25%    50%    75%     max\n",
       "fixed_acidity        1599.000  8.320  1.741 4.600  7.100  7.900  9.200  15.900\n",
       "volatile_acidity     1599.000  0.528  0.179 0.120  0.390  0.520  0.640   1.580\n",
       "citric_acid          1599.000  0.271  0.195 0.000  0.090  0.260  0.420   1.000\n",
       "residual_sugar       1599.000  2.539  1.410 0.900  1.900  2.200  2.600  15.500\n",
       "chlorides            1599.000  0.087  0.047 0.012  0.070  0.079  0.090   0.611\n",
       "free_sulfur_dioxide  1599.000 15.875 10.460 1.000  7.000 14.000 21.000  72.000\n",
       "total_sulfur_dioxide 1599.000 46.468 32.895 6.000 22.000 38.000 62.000 289.000\n",
       "density              1599.000  0.997  0.002 0.990  0.996  0.997  0.998   1.004\n",
       "pH                   1599.000  3.311  0.154 2.740  3.210  3.310  3.400   4.010\n",
       "sulphates            1599.000  0.658  0.170 0.330  0.550  0.620  0.730   2.000\n",
       "alcohol              1599.000 10.423  1.066 8.400  9.500 10.200 11.100  14.900\n",
       "good                 1599.000  0.136  0.343 0.000  0.000  0.000  0.000   1.000"
      ]
     },
     "execution_count": 3,
     "metadata": {},
     "output_type": "execute_result"
    }
   ],
   "source": [
    "# Describe the data\n",
    "wine_data.describe().T"
   ]
  },
  {
   "cell_type": "markdown",
   "id": "15e1d34d",
   "metadata": {},
   "source": [
    "EDA:\n",
    "1 - Check missing Values \n",
    "2 - Check dtypes to see if we need to encode anything.\n",
    "3 - Check if we have any columns that are only contains one value. \n",
    "4 - Correlation Matrix and Heatmap for checking the relationship between dep and indep vars. \n",
    "5 - Check outliers."
   ]
  },
  {
   "cell_type": "code",
   "execution_count": 4,
   "id": "667453d9",
   "metadata": {},
   "outputs": [
    {
     "name": "stdout",
     "output_type": "stream",
     "text": [
      "No missings Found in the data!\n"
     ]
    }
   ],
   "source": [
    "# Check missing Values\n",
    "missing = [x for x in wine_data.columns if wine_data[x].isnull().sum() > 0]\n",
    "\n",
    "if len(missing):\n",
    "    print(f'Missings Found for \\n{missing}')\n",
    "else:\n",
    "    print('No missings Found in the data!')"
   ]
  },
  {
   "cell_type": "code",
   "execution_count": 5,
   "id": "9741aea2",
   "metadata": {},
   "outputs": [
    {
     "name": "stdout",
     "output_type": "stream",
     "text": [
      "All columns are numeric\n"
     ]
    }
   ],
   "source": [
    "# 2 - Check dtypes to see if we need to encode anything. \n",
    "\n",
    "non_numeric_cols = wine_data.select_dtypes(exclude=[np.number]).columns.to_list()\n",
    "numeric_cols = wine_data.select_dtypes(include=[np.number]).columns.to_list()\n",
    "if non_numeric_cols:\n",
    "    print(f'Columns needs to be encoded {non_numeric_cols}')\n",
    "else:\n",
    "    print('All columns are numeric')"
   ]
  },
  {
   "cell_type": "code",
   "execution_count": 6,
   "id": "dc0b80c1",
   "metadata": {
    "scrolled": true
   },
   "outputs": [
    {
     "name": "stdout",
     "output_type": "stream",
     "text": [
      "No columns are constant\n"
     ]
    }
   ],
   "source": [
    "# Check if we have any columns that are only contains constant_value. \n",
    "\n",
    "constant_value_lst = [x for x in wine_data.columns if wine_data[x].nunique() <= 1]\n",
    "if constant_value_lst:\n",
    "    print(f'Constant column lst {constant_value_lst}')\n",
    "else:\n",
    "    print('No columns are constant')"
   ]
  },
  {
   "cell_type": "code",
   "execution_count": 7,
   "id": "8d6477e0",
   "metadata": {
    "scrolled": false
   },
   "outputs": [
    {
     "data": {
      "image/png": "[encoded data removed]",
      "text/plain": [
       "<Figure size 720x720 with 2 Axes>"
      ]
     },
     "metadata": {
      "needs_background": "light"
     },
     "output_type": "display_data"
    }
   ],
   "source": [
    "# 4 - Correlation Matrix and Heatmap for checking the relationship between dep and indep vars. \n",
    "correlation = wine_data.corr()\n",
    "plt.figure(figsize=(10, 10))\n",
    "sns.heatmap(correlation, annot=True)\n",
    "plt.show()"
   ]
  },
  {
   "cell_type": "code",
   "execution_count": 8,
   "id": "260b55f3",
   "metadata": {},
   "outputs": [
    {
     "name": "stdout",
     "output_type": "stream",
     "text": [
      "Before outlier handling Ratio of good wine count in the data 0.1357098186366479 and count 217\n"
     ]
    }
   ],
   "source": [
    "# 5 - Check outliers. and check the ratio of Good wines to not\n",
    "ratio = wine_data.loc[wine_data['good'] == 1, 'good'].count() / len(wine_data['good'])\n",
    "count = wine_data.loc[wine_data['good'] == 1, 'good'].count()\n",
    "print(f'Before outlier handling Ratio of good wine count in the data {ratio} and count {count}')\n",
    "\n",
    "# Ratio is a bit low, we can consider about oversampling or undersampling\n",
    "\n",
    "# IQR (Interquartile Range) Method for outliers.\n",
    "\n",
    "# "
   ]
  },
  {
   "cell_type": "code",
   "execution_count": 9,
   "id": "69bfe000",
   "metadata": {},
   "outputs": [
    {
     "data": {
      "image/png": "[encoded data removed]",
      "text/plain": [
       "<Figure size 432x288 with 1 Axes>"
      ]
     },
     "metadata": {
      "needs_background": "light"
     },
     "output_type": "display_data"
    },
    {
     "name": "stdout",
     "output_type": "stream",
     "text": [
      "Outliers for fixed_acidity: []\n"
     ]
    },
    {
     "data": {
      "image/png": "[encoded data removed]",
      "text/plain": [
       "<Figure size 432x288 with 1 Axes>"
      ]
     },
     "metadata": {
      "needs_background": "light"
     },
     "output_type": "display_data"
    },
    {
     "name": "stdout",
     "output_type": "stream",
     "text": [
      "Outliers for volatile_acidity: []\n"
     ]
    },
    {
     "data": {
      "image/png": "[encoded data removed]",
      "text/plain": [
       "<Figure size 432x288 with 1 Axes>"
      ]
     },
     "metadata": {
      "needs_background": "light"
     },
     "output_type": "display_data"
    },
    {
     "name": "stdout",
     "output_type": "stream",
     "text": [
      "Outliers for citric_acid: []\n"
     ]
    },
    {
     "data": {
      "image/png": "[encoded data removed]",
      "text/plain": [
       "<Figure size 432x288 with 1 Axes>"
      ]
     },
     "metadata": {
      "needs_background": "light"
     },
     "output_type": "display_data"
    },
    {
     "name": "stdout",
     "output_type": "stream",
     "text": [
      "Outliers for residual_sugar: [10.7, 11.0, 11.0, 15.5, 12.9, 13.4, 15.4, 15.4, 13.8, 13.8, 13.9]\n",
      "Outliers deleted\n"
     ]
    },
    {
     "data": {
      "image/png": "[encoded data removed]",
      "text/plain": [
       "<Figure size 432x288 with 1 Axes>"
      ]
     },
     "metadata": {
      "needs_background": "light"
     },
     "output_type": "display_data"
    },
    {
     "name": "stdout",
     "output_type": "stream",
     "text": [
      "Outliers for chlorides: [0.358, 0.368, 0.341, 0.332, 0.464, 0.401, 0.467, 0.236, 0.61, 0.36, 0.27, 0.337, 0.263, 0.611, 0.343, 0.413, 0.25, 0.422, 0.387, 0.415, 0.243, 0.241, 0.414, 0.369, 0.403, 0.414, 0.415, 0.415, 0.267, 0.235, 0.23]\n",
      "Outliers deleted\n"
     ]
    },
    {
     "data": {
      "image/png": "[encoded data removed]",
      "text/plain": [
       "<Figure size 432x288 with 1 Axes>"
      ]
     },
     "metadata": {
      "needs_background": "light"
     },
     "output_type": "display_data"
    },
    {
     "name": "stdout",
     "output_type": "stream",
     "text": [
      "Outliers for free_sulfur_dioxide: []\n"
     ]
    },
    {
     "data": {
      "image/png": "[encoded data removed]",
      "text/plain": [
       "<Figure size 432x288 with 1 Axes>"
      ]
     },
     "metadata": {
      "needs_background": "light"
     },
     "output_type": "display_data"
    },
    {
     "name": "stdout",
     "output_type": "stream",
     "text": [
      "Outliers for total_sulfur_dioxide: [278.0, 289.0]\n",
      "Outliers deleted\n"
     ]
    },
    {
     "data": {
      "image/png": "[encoded data removed]",
      "text/plain": [
       "<Figure size 432x288 with 1 Axes>"
      ]
     },
     "metadata": {
      "needs_background": "light"
     },
     "output_type": "display_data"
    },
    {
     "name": "stdout",
     "output_type": "stream",
     "text": [
      "Outliers for density: []\n"
     ]
    },
    {
     "data": {
      "image/png": "[encoded data removed]",
      "text/plain": [
       "<Figure size 432x288 with 1 Axes>"
      ]
     },
     "metadata": {
      "needs_background": "light"
     },
     "output_type": "display_data"
    },
    {
     "name": "stdout",
     "output_type": "stream",
     "text": [
      "Outliers for pH: []\n"
     ]
    },
    {
     "data": {
      "image/png": "[encoded data removed]",
      "text/plain": [
       "<Figure size 432x288 with 1 Axes>"
      ]
     },
     "metadata": {
      "needs_background": "light"
     },
     "output_type": "display_data"
    },
    {
     "name": "stdout",
     "output_type": "stream",
     "text": [
      "Outliers for sulphates: [1.95, 1.95, 1.98, 1.62]\n",
      "Outliers deleted\n"
     ]
    },
    {
     "data": {
      "image/png": "[encoded data removed]",
      "text/plain": [
       "<Figure size 432x288 with 1 Axes>"
      ]
     },
     "metadata": {
      "needs_background": "light"
     },
     "output_type": "display_data"
    },
    {
     "name": "stdout",
     "output_type": "stream",
     "text": [
      "Outliers for alcohol: []\n",
      "\n"
     ]
    }
   ],
   "source": [
    "# Create a box plot to visualize the data\n",
    "\n",
    "for cols in wine_data.columns:\n",
    "    # no need to check dep var\n",
    "    if cols == 'good':\n",
    "        continue\n",
    "    plt.boxplot(wine_data[cols])\n",
    "    plt.title(f'Box Plot of Data {cols}')\n",
    "    plt.show()\n",
    "\n",
    "    # Calculate the IQR and identify outliers\n",
    "    Q1 = np.percentile(wine_data[cols], 5)\n",
    "    Q3 = np.percentile(wine_data[cols], 95)\n",
    "    IQR = Q3 - Q1\n",
    "\n",
    "    lower_bound = Q1 - 1.5 * IQR\n",
    "    upper_bound = Q3 + 1.5 * IQR\n",
    "\n",
    "    outliers = [x for x in wine_data[cols] if x < lower_bound or x > upper_bound]\n",
    "    print(f\"Outliers for {cols}: {outliers}\")\n",
    "    if outliers:\n",
    "        wine_data = wine_data[(wine_data[cols] >= lower_bound) & (wine_data[cols] <= upper_bound)]\n",
    "        print('Outliers deleted')\n",
    "        \n",
    "print()"
   ]
  },
  {
   "cell_type": "code",
   "execution_count": 10,
   "id": "116c21e4",
   "metadata": {},
   "outputs": [
    {
     "name": "stdout",
     "output_type": "stream",
     "text": [
      "After outlier handling Ratio of good wine count in the data 0.13797549967762734 and count 214\n"
     ]
    }
   ],
   "source": [
    "# 5 - Check outliers. and check the ratio of Good wines to not\n",
    "ratio = wine_data.loc[wine_data['good'] == 1, 'good'].count() / len(wine_data['good'])\n",
    "count = wine_data.loc[wine_data['good'] == 1, 'good'].count()\n",
    "print(f'After outlier handling Ratio of good wine count in the data {ratio} and count {count}')\n",
    "\n",
    "# Ratio is a bit low, we can consider about oversampling or undersampling\n"
   ]
  },
  {
   "cell_type": "code",
   "execution_count": 11,
   "id": "19514d32",
   "metadata": {},
   "outputs": [
    {
     "data": {
      "text/html": [
       "<div>\n",
       "<style scoped>\n",
       "    .dataframe tbody tr th:only-of-type {\n",
       "        vertical-align: middle;\n",
       "    }\n",
       "\n",
       "    .dataframe tbody tr th {\n",
       "        vertical-align: top;\n",
       "    }\n",
       "\n",
       "    .dataframe thead th {\n",
       "        text-align: right;\n",
       "    }\n",
       "</style>\n",
       "<table border=\"1\" class=\"dataframe\">\n",
       "  <thead>\n",
       "    <tr style=\"text-align: right;\">\n",
       "      <th></th>\n",
       "      <th>VIF</th>\n",
       "      <th>features</th>\n",
       "    </tr>\n",
       "  </thead>\n",
       "  <tbody>\n",
       "    <tr>\n",
       "      <th>0</th>\n",
       "      <td>1851878.904</td>\n",
       "      <td>const</td>\n",
       "    </tr>\n",
       "    <tr>\n",
       "      <th>1</th>\n",
       "      <td>8.048</td>\n",
       "      <td>fixed_acidity</td>\n",
       "    </tr>\n",
       "    <tr>\n",
       "      <th>2</th>\n",
       "      <td>1.830</td>\n",
       "      <td>volatile_acidity</td>\n",
       "    </tr>\n",
       "    <tr>\n",
       "      <th>3</th>\n",
       "      <td>3.129</td>\n",
       "      <td>citric_acid</td>\n",
       "    </tr>\n",
       "    <tr>\n",
       "      <th>4</th>\n",
       "      <td>1.659</td>\n",
       "      <td>residual_sugar</td>\n",
       "    </tr>\n",
       "    <tr>\n",
       "      <th>5</th>\n",
       "      <td>1.211</td>\n",
       "      <td>chlorides</td>\n",
       "    </tr>\n",
       "    <tr>\n",
       "      <th>6</th>\n",
       "      <td>2.007</td>\n",
       "      <td>free_sulfur_dioxide</td>\n",
       "    </tr>\n",
       "    <tr>\n",
       "      <th>7</th>\n",
       "      <td>2.232</td>\n",
       "      <td>total_sulfur_dioxide</td>\n",
       "    </tr>\n",
       "    <tr>\n",
       "      <th>8</th>\n",
       "      <td>6.685</td>\n",
       "      <td>density</td>\n",
       "    </tr>\n",
       "    <tr>\n",
       "      <th>9</th>\n",
       "      <td>3.266</td>\n",
       "      <td>pH</td>\n",
       "    </tr>\n",
       "    <tr>\n",
       "      <th>10</th>\n",
       "      <td>1.282</td>\n",
       "      <td>sulphates</td>\n",
       "    </tr>\n",
       "    <tr>\n",
       "      <th>11</th>\n",
       "      <td>3.178</td>\n",
       "      <td>alcohol</td>\n",
       "    </tr>\n",
       "  </tbody>\n",
       "</table>\n",
       "</div>"
      ],
      "text/plain": [
       "           VIF              features\n",
       "0  1851878.904                 const\n",
       "1        8.048         fixed_acidity\n",
       "2        1.830      volatile_acidity\n",
       "3        3.129           citric_acid\n",
       "4        1.659        residual_sugar\n",
       "5        1.211             chlorides\n",
       "6        2.007   free_sulfur_dioxide\n",
       "7        2.232  total_sulfur_dioxide\n",
       "8        6.685               density\n",
       "9        3.266                    pH\n",
       "10       1.282             sulphates\n",
       "11       3.178               alcohol"
      ]
     },
     "execution_count": 11,
     "metadata": {},
     "output_type": "execute_result"
    }
   ],
   "source": [
    "# the target column (in this case 'good') should not be included in variables\n",
    "# Categorical variables may or maynot be added if any\n",
    "columns = [x for x in wine_data.columns if x!='good']\n",
    "variables = wine_data[columns]\n",
    "\n",
    "# The constant term represents the intercept in a linear regression model.\n",
    "# It's added because VIF calculations assume that a linear regression is performed.\n",
    "x = add_constant(variables)\n",
    "\n",
    "vif = pd.DataFrame()\n",
    "vif['VIF'] = [variance_inflation_factor(x.values,i) for i in range (x.shape[1])]\n",
    "vif['features'] = x.columns\n",
    "vif\n",
    "# if any of them were higher than 10 I would delete it to prevent multicollinearity (not the constant)"
   ]
  },
  {
   "cell_type": "code",
   "execution_count": null,
   "id": "98774c4e",
   "metadata": {},
   "outputs": [],
   "source": []
  },
  {
   "cell_type": "code",
   "execution_count": 12,
   "id": "02cbf257",
   "metadata": {
    "scrolled": true
   },
   "outputs": [],
   "source": [
    "\"\"\"\n",
    "\n",
    "Now the modeling part, test train split and scaling\n",
    "\n",
    "\"\"\"\n",
    "# Now we need to scale the data, I'm going to use standard scaler. z transformation\n",
    "# Dep_Var\n",
    "x = wine_data.drop('good', axis =1)\n",
    "\n",
    "# indep_var\n",
    "y = wine_data['good']\n",
    "\n",
    "scaler = StandardScaler()\n",
    "\n",
    "scaler.fit(x)\n",
    "scaled_x = scaler.transform(x)\n",
    "\n",
    "x_train, x_test, y_train, y_test = train_test_split(scaled_x, y , test_size = 0.3, random_state  = 999)\n"
   ]
  },
  {
   "cell_type": "code",
   "execution_count": 21,
   "id": "3fe98479",
   "metadata": {},
   "outputs": [
    {
     "name": "stdout",
     "output_type": "stream",
     "text": [
      "Cross-Validation Scores for Ensemble: [0.884793 0.884793 0.894009 0.889401 0.898618]\n",
      "Mean CV Accuracy for Ensemble: 0.8903225806451613\n",
      "Test Set Accuracy for Ensemble: 0.8927038626609443\n",
      "Classification Report for Ensemble:\n",
      "               precision    recall  f1-score   support\n",
      "\n",
      "           0       0.91      0.97      0.94       402\n",
      "           1       0.69      0.39      0.50        64\n",
      "\n",
      "    accuracy                           0.89       466\n",
      "   macro avg       0.80      0.68      0.72       466\n",
      "weighted avg       0.88      0.89      0.88       466\n",
      "\n"
     ]
    },
    {
     "data": {
      "image/png": "[encoded data removed]",
      "text/plain": [
       "<Figure size 432x288 with 2 Axes>"
      ]
     },
     "metadata": {
      "needs_background": "light"
     },
     "output_type": "display_data"
    }
   ],
   "source": [
    "# Model run with imbalances\n",
    "\n",
    "from sklearn.ensemble import VotingClassifier\n",
    "from sklearn.model_selection import KFold, cross_val_score\n",
    "\n",
    "# Model Instances\n",
    "# Random Forest Classifier\n",
    "rfc = RandomForestClassifier()\n",
    "# Support vector machines\n",
    "svm_ = svm.SVC() \n",
    "# Logistic Regression\n",
    "log_reg = LogisticRegression(solver='saga')\n",
    "# Decision Tree\n",
    "tree = DecisionTreeClassifier()\n",
    "\n",
    "\n",
    "# Define the hyperparameter grid to search\n",
    "# random forest\n",
    "rfc_param_grid = {\n",
    "    'n_estimators': [100, 200, 300],\n",
    "    'max_depth': [10, 20, 30],\n",
    "    'min_samples_leaf': [1, 2, 4]\n",
    "}\n",
    "\n",
    "# for the SVM\n",
    "svm_param_grid = {\n",
    "    'C': [0.1, 1, 10],\n",
    "    'kernel': ['linear', 'rbf', 'poly'],\n",
    "    'gamma': ['scale', 'auto', 0.1, 1],\n",
    "}\n",
    "\n",
    "# For logit\n",
    "logit_param_grid = {\n",
    "    'penalty': ['l1', 'l2', 'elasticnet'],           \n",
    "    'C': [0.001, 0.01, 0.5, 0.1, 1, 10],\n",
    "    'l1_ratio': [0.2, 0.5, 0.8]}\n",
    "\n",
    "# For Tree\n",
    "tree_param_grid = {\n",
    "    'criterion': ['gini', 'entropy'],\n",
    "    'max_depth': [None, 10, 20, 30],\n",
    "    'min_samples_split': [2, 5, 10],\n",
    "    'min_samples_leaf': [1, 2, 4]\n",
    "}\n",
    "\n",
    "# Create GridSearchCV objects for all models\n",
    "# n_jobs for parallel running -1 is all processors\n",
    "\n",
    "rfc_grid_search = GridSearchCV(estimator=rfc, param_grid=rfc_param_grid, cv=5, scoring='balanced_accuracy', n_jobs=-1)\n",
    "svm_grid_search = GridSearchCV(estimator=svm_, param_grid=svm_param_grid, cv=5, scoring='balanced_accuracy', n_jobs=-1)\n",
    "log_grid_search = GridSearchCV(estimator=log_reg, param_grid=logit_param_grid, cv=5, scoring='balanced_accuracy', n_jobs=-1)\n",
    "tree_grid_search = GridSearchCV(estimator=tree, param_grid=tree_param_grid, cv=5, scoring='balanced_accuracy', n_jobs=-1)\n",
    "\n",
    "# Perform grid search t\n",
    "rfc_grid_search.fit(x_train, y_train)\n",
    "svm_grid_search.fit(x_train, y_train)\n",
    "log_grid_search.fit(x_train, y_train)\n",
    "tree_grid_search.fit(x_train, y_train)\n",
    "\n",
    "# Best hyperparameters\n",
    "best_rfc = rfc_grid_search.best_estimator_\n",
    "best_svm = svm_grid_search.best_estimator_\n",
    "best_log = log_grid_search.best_estimator_\n",
    "best_tree = tree_grid_search.best_estimator_\n",
    "\n",
    "# Combine the optimized models into an ensemble (Voting Classifier)\n",
    "ensemble = VotingClassifier(estimators=[('rfc', best_rfc),\n",
    "                                        ('svm', best_svm),\n",
    "                                        ('logistic', best_log),\n",
    "                                        ('tree', best_tree)\n",
    "                                        ], voting='hard')\n",
    "\n",
    "# Evaluate the ensemble using cross-validation\n",
    "kfold = KFold(n_splits=5, shuffle=True, random_state=999)\n",
    "cv_scores = cross_val_score(ensemble, x_train, y_train, cv=kfold, scoring='accuracy')\n",
    "\n",
    "print(\"Cross-Validation Scores for Ensemble:\", cv_scores)\n",
    "print(\"Mean CV Accuracy for Ensemble:\", cv_scores.mean())\n",
    "\n",
    "# Train the ensemble model on the entire training set\n",
    "ensemble.fit(x_train, y_train)\n",
    "\n",
    "# Make predictions on the test set using the ensemble\n",
    "y_pred_ensemble = ensemble.predict(x_test)\n",
    "\n",
    "# Calculate accuracy and other evaluation metrics for the ensemble\n",
    "acc_ensemble = accuracy_score(y_pred_ensemble, y_test)\n",
    "print(\"Test Set Accuracy for Ensemble:\", acc_ensemble)\n",
    "\n",
    "# Calculate the confusion matrix and display it\n",
    "conf_matrix = confusion_matrix(y_pred_ensemble, y_test)\n",
    "disp = ConfusionMatrixDisplay(confusion_matrix=conf_matrix, display_labels=ensemble.classes_)\n",
    "disp.plot()\n",
    "\n",
    "# Print the classification report for the ensemble\n",
    "print(\"Classification Report for Ensemble:\\n\", classification_report(y_test, y_pred_ensemble))"
   ]
  },
  {
   "cell_type": "code",
   "execution_count": 13,
   "id": "0da22996",
   "metadata": {},
   "outputs": [
    {
     "name": "stdout",
     "output_type": "stream",
     "text": [
      "Cross-Validation Scores for Ensemble: [0.866359 0.889401 0.907834 0.898618 0.889401]\n",
      "Mean CV Accuracy for Ensemble: 0.8903225806451612\n",
      "Test Set Accuracy for Ensemble: 0.8991416309012875\n",
      "Classification Report for Ensemble:\n",
      "               precision    recall  f1-score   support\n",
      "\n",
      "           0       0.91      0.98      0.94       402\n",
      "           1       0.74      0.41      0.53        64\n",
      "\n",
      "    accuracy                           0.90       466\n",
      "   macro avg       0.83      0.69      0.73       466\n",
      "weighted avg       0.89      0.90      0.89       466\n",
      "\n"
     ]
    },
    {
     "data": {
      "image/png": "[encoded data removed]",
      "text/plain": [
       "<Figure size 432x288 with 2 Axes>"
      ]
     },
     "metadata": {
      "needs_background": "light"
     },
     "output_type": "display_data"
    }
   ],
   "source": [
    "# Model run with imbalances\n",
    "\n",
    "from sklearn.ensemble import VotingClassifier\n",
    "from sklearn.model_selection import KFold, cross_val_score\n",
    "\n",
    "# Model Instances\n",
    "# Random Forest Classifier\n",
    "rfc = RandomForestClassifier()\n",
    "# Support vector machines\n",
    "svm_ = svm.SVC() \n",
    "# Logistic Regression\n",
    "log_reg = LogisticRegression(solver='saga')\n",
    "# Decision Tree\n",
    "tree = DecisionTreeClassifier()\n",
    "\n",
    "\n",
    "# Define the hyperparameter grid to search\n",
    "# random forest\n",
    "rfc_param_grid = {\n",
    "    'n_estimators': [100, 200, 300],\n",
    "    'max_depth': [10, 20, 30],\n",
    "    'min_samples_leaf': [1, 2, 4]\n",
    "}\n",
    "\n",
    "# for the SVM\n",
    "svm_param_grid = {\n",
    "    'C': [0.1, 1, 10],\n",
    "    'kernel': ['linear', 'rbf', 'poly'],\n",
    "    'gamma': ['scale', 'auto', 0.1, 1],\n",
    "}\n",
    "\n",
    "# For logit\n",
    "logit_param_grid = {\n",
    "    'penalty': ['l1', 'l2', 'elasticnet'],           \n",
    "    'C': [0.001, 0.01, 0.5, 0.1, 1, 10],\n",
    "    'l1_ratio': [0.2, 0.5, 0.8]}\n",
    "\n",
    "# For Tree\n",
    "tree_param_grid = {\n",
    "    'criterion': ['gini', 'entropy'],\n",
    "    'max_depth': [None, 10, 20, 30],\n",
    "    'min_samples_split': [2, 5, 10],\n",
    "    'min_samples_leaf': [1, 2, 4]\n",
    "}\n",
    "\n",
    "# Create GridSearchCV objects for all models\n",
    "# n_jobs for parallel running -1 is all processors\n",
    "\n",
    "rfc_grid_search = GridSearchCV(estimator=rfc, param_grid=rfc_param_grid, cv=5, scoring='accuracy', n_jobs=-1)\n",
    "svm_grid_search = GridSearchCV(estimator=svm_, param_grid=svm_param_grid, cv=5, scoring='accuracy', n_jobs=-1)\n",
    "log_grid_search = GridSearchCV(estimator=log_reg, param_grid=logit_param_grid, cv=5, scoring='roc_auc', n_jobs=-1)\n",
    "tree_grid_search = GridSearchCV(estimator=tree, param_grid=tree_param_grid, cv=5, scoring='accuracy', n_jobs=-1)\n",
    "\n",
    "# Perform grid search t\n",
    "rfc_grid_search.fit(x_train, y_train)\n",
    "svm_grid_search.fit(x_train, y_train)\n",
    "log_grid_search.fit(x_train, y_train)\n",
    "tree_grid_search.fit(x_train, y_train)\n",
    "\n",
    "# Best hyperparameters\n",
    "best_rfc = rfc_grid_search.best_estimator_\n",
    "best_svm = svm_grid_search.best_estimator_\n",
    "best_log = log_grid_search.best_estimator_\n",
    "best_tree = tree_grid_search.best_estimator_\n",
    "\n",
    "# Combine the optimized models into an ensemble (Voting Classifier)\n",
    "ensemble = VotingClassifier(estimators=[('rfc', best_rfc),\n",
    "                                        ('svm', best_svm),\n",
    "                                        ('logistic', best_log),\n",
    "                                        ('tree', best_tree)\n",
    "                                        ], voting='hard')\n",
    "\n",
    "# Evaluate the ensemble using cross-validation\n",
    "kfold = KFold(n_splits=5, shuffle=True, random_state=999)\n",
    "cv_scores = cross_val_score(ensemble, x_train, y_train, cv=kfold, scoring='accuracy')\n",
    "\n",
    "print(\"Cross-Validation Scores for Ensemble:\", cv_scores)\n",
    "print(\"Mean CV Accuracy for Ensemble:\", cv_scores.mean())\n",
    "\n",
    "# Train the ensemble model on the entire training set\n",
    "ensemble.fit(x_train, y_train)\n",
    "\n",
    "# Make predictions on the test set using the ensemble\n",
    "y_pred_ensemble = ensemble.predict(x_test)\n",
    "\n",
    "# Calculate accuracy and other evaluation metrics for the ensemble\n",
    "acc_ensemble = accuracy_score(y_pred_ensemble, y_test)\n",
    "print(\"Test Set Accuracy for Ensemble:\", acc_ensemble)\n",
    "\n",
    "# Calculate the confusion matrix and display it\n",
    "conf_matrix = confusion_matrix(y_pred_ensemble, y_test)\n",
    "disp = ConfusionMatrixDisplay(confusion_matrix=conf_matrix, display_labels=ensemble.classes_)\n",
    "disp.plot()\n",
    "\n",
    "# Print the classification report for the ensemble\n",
    "print(\"Classification Report for Ensemble:\\n\", classification_report(y_test, y_pred_ensemble))"
   ]
  },
  {
   "cell_type": "code",
   "execution_count": 14,
   "id": "16f3d928",
   "metadata": {},
   "outputs": [
    {
     "name": "stdout",
     "output_type": "stream",
     "text": [
      "Cross-Validation Scores for Ensemble: [0.943850 0.911765 0.946524 0.941176 0.951872]\n",
      "Mean CV Accuracy for Ensemble: 0.9390374331550803\n",
      "Test Set Accuracy for Ensemble: 0.9034334763948498\n",
      "Classification Report for Ensemble:\n",
      "               precision    recall  f1-score   support\n",
      "\n",
      "           0       0.94      0.95      0.94       402\n",
      "           1       0.67      0.59      0.63        64\n",
      "\n",
      "    accuracy                           0.90       466\n",
      "   macro avg       0.80      0.77      0.79       466\n",
      "weighted avg       0.90      0.90      0.90       466\n",
      "\n"
     ]
    },
    {
     "data": {
      "image/png": "[encoded data removed]",
      "text/plain": [
       "<Figure size 432x288 with 2 Axes>"
      ]
     },
     "metadata": {
      "needs_background": "light"
     },
     "output_type": "display_data"
    }
   ],
   "source": [
    "# Model with \n",
    "\n",
    "# Model run with imbalances\n",
    "# Synthetic Minority Over-sampling. \n",
    "from imblearn.over_sampling import SMOTE\n",
    "from sklearn.ensemble import VotingClassifier\n",
    "from sklearn.model_selection import KFold, cross_val_score\n",
    "\n",
    "# Model Instances\n",
    "# Random Forest Classifier\n",
    "rfc = RandomForestClassifier()\n",
    "# Support vector machines\n",
    "svm_ = svm.SVC() \n",
    "# Logistic Regression\n",
    "log_reg = LogisticRegression(solver='saga')\n",
    "# Decision Tree\n",
    "tree = DecisionTreeClassifier()\n",
    "\n",
    "# Create an instance of the SMOTE oversampler\n",
    "smote = SMOTE(random_state=99)\n",
    "\n",
    "# Apply SMOTE to the training data to oversample the minority class\n",
    "x_train_resampled, y_train_resampled = smote.fit_resample(x_train, y_train)\n",
    "\n",
    "# Define the hyperparameter grid to search\n",
    "# random forest\n",
    "rfc_param_grid = {\n",
    "    'n_estimators': [100, 200, 300],\n",
    "    'max_depth': [10, 20, 30],\n",
    "    'min_samples_leaf': [1, 2, 4]\n",
    "}\n",
    "\n",
    "# for the SVM\n",
    "svm_param_grid = {\n",
    "    'C': [0.1, 1, 10],\n",
    "    'kernel': ['linear', 'rbf', 'poly'],\n",
    "    'gamma': ['scale', 'auto', 0.1, 1],\n",
    "}\n",
    "\n",
    "# For logit\n",
    "logit_param_grid = {\n",
    "    'penalty': ['l1', 'l2', 'elasticnet'],           \n",
    "    'C': [0.001, 0.01, 0.5, 0.1, 1, 10],\n",
    "    'l1_ratio': [0.2, 0.5, 0.8]}\n",
    "\n",
    "# For Tree\n",
    "tree_param_grid = {\n",
    "    'criterion': ['gini', 'entropy'],\n",
    "    'max_depth': [None, 10, 20, 30],\n",
    "    'min_samples_split': [2, 5, 10],\n",
    "    'min_samples_leaf': [1, 2, 4]\n",
    "}\n",
    "\n",
    "# Create GridSearchCV objects for all models\n",
    "# n_jobs for parallel running -1 is all processors\n",
    "rfc_grid_search = GridSearchCV(estimator=rfc, param_grid=rfc_param_grid, cv=5, scoring='accuracy', n_jobs=-1)\n",
    "svm_grid_search = GridSearchCV(estimator=svm_, param_grid=svm_param_grid, cv=5, scoring='accuracy', n_jobs=-1)\n",
    "log_grid_search = GridSearchCV(estimator=log_reg, param_grid=logit_param_grid, cv=5, scoring='roc_auc', n_jobs=-1)\n",
    "tree_grid_search = GridSearchCV(estimator=tree, param_grid=tree_param_grid, cv=5, scoring='accuracy', n_jobs=-1)\n",
    "\n",
    "# Perform grid search t\n",
    "rfc_grid_search.fit(x_train_resampled, y_train_resampled)\n",
    "svm_grid_search.fit(x_train_resampled, y_train_resampled)\n",
    "log_grid_search.fit(x_train_resampled, y_train_resampled)\n",
    "tree_grid_search.fit(x_train_resampled, y_train_resampled)\n",
    "\n",
    "# Best hyperparameters\n",
    "best_rfc = rfc_grid_search.best_estimator_\n",
    "best_svm = svm_grid_search.best_estimator_\n",
    "best_log = log_grid_search.best_estimator_\n",
    "best_tree = tree_grid_search.best_estimator_\n",
    "\n",
    "# Combine the optimized models into an ensemble (Voting Classifier)\n",
    "ensemble = VotingClassifier(estimators=[('rfc', best_rfc),\n",
    "                                        ('svm', best_svm),\n",
    "                                        ('logistic', best_log),\n",
    "                                        ('tree', best_tree)\n",
    "                                        ], voting='hard')\n",
    "\n",
    "# Evaluate the ensemble using cross-validation\n",
    "kfold = KFold(n_splits=5, shuffle=True, random_state=999)\n",
    "cv_scores = cross_val_score(ensemble, x_train_resampled, y_train_resampled, cv=kfold, scoring='accuracy')\n",
    "\n",
    "print(\"Cross-Validation Scores for Ensemble:\", cv_scores)\n",
    "print(\"Mean CV Accuracy for Ensemble:\", cv_scores.mean())\n",
    "\n",
    "# Train the ensemble model on the entire training set\n",
    "ensemble.fit(x_train_resampled, y_train_resampled)\n",
    "\n",
    "# Make predictions on the test set using the ensemble\n",
    "y_pred_ensemble = ensemble.predict(x_test)\n",
    "\n",
    "# Calculate accuracy and other evaluation metrics for the ensemble\n",
    "acc_ensemble = accuracy_score(y_pred_ensemble, y_test)\n",
    "print(\"Test Set Accuracy for Ensemble:\", acc_ensemble)\n",
    "\n",
    "# Calculate the confusion matrix and display it\n",
    "conf_matrix = confusion_matrix(y_pred_ensemble, y_test)\n",
    "disp = ConfusionMatrixDisplay(confusion_matrix=conf_matrix, display_labels=ensemble.classes_)\n",
    "disp.plot()\n",
    "\n",
    "# Print the classification report for the ensemble\n",
    "print(\"Classification Report for Ensemble:\\n\", classification_report(y_test, y_pred_ensemble))"
   ]
  },
  {
   "cell_type": "code",
   "execution_count": 15,
   "id": "dd02dc80",
   "metadata": {
    "scrolled": true
   },
   "outputs": [
    {
     "name": "stdout",
     "output_type": "stream",
     "text": [
      "Cross-Validation Scores for Ensemble: [0.970588 0.978610 0.978610 0.983957 0.983957]\n",
      "Mean CV Accuracy for Ensemble: 0.979144385026738\n",
      "Test Set Accuracy for Ensemble: 0.9098712446351931\n",
      "Classification Report for Ensemble:\n",
      "               precision    recall  f1-score   support\n",
      "\n",
      "           0       0.93      0.97      0.95       402\n",
      "           1       0.72      0.56      0.63        64\n",
      "\n",
      "    accuracy                           0.91       466\n",
      "   macro avg       0.83      0.76      0.79       466\n",
      "weighted avg       0.90      0.91      0.91       466\n",
      "\n"
     ]
    },
    {
     "data": {
      "image/png": "[encoded data removed]",
      "text/plain": [
       "<Figure size 432x288 with 2 Axes>"
      ]
     },
     "metadata": {
      "needs_background": "light"
     },
     "output_type": "display_data"
    }
   ],
   "source": [
    "# Model with \n",
    "\n",
    "# Model run with imbalances\n",
    "\n",
    "from imblearn.over_sampling import RandomOverSampler\n",
    "from sklearn.ensemble import VotingClassifier\n",
    "from sklearn.model_selection import KFold, cross_val_score\n",
    "\n",
    "# Model Instances\n",
    "# Random Forest Classifier\n",
    "rfc = RandomForestClassifier()\n",
    "# Support vector machines\n",
    "svm_ = svm.SVC() \n",
    "# Logistic Regression\n",
    "log_reg = LogisticRegression(solver='saga')\n",
    "# Decision Tree\n",
    "tree = DecisionTreeClassifier()\n",
    "\n",
    "# Create an instance of the RandomOverSampler\n",
    "oversampler = RandomOverSampler(sampling_strategy='auto', random_state=42)\n",
    "\n",
    "# Apply random oversampling to the training data\n",
    "x_train_oversampled, y_train_oversampled = oversampler.fit_resample(x_train, y_train)\n",
    "\n",
    "# Define the hyperparameter grid to search\n",
    "# random forest\n",
    "rfc_param_grid = {\n",
    "    'n_estimators': [100, 200, 300],\n",
    "    'max_depth': [10, 20, 30],\n",
    "    'min_samples_leaf': [1, 2, 4]\n",
    "}\n",
    "\n",
    "# for the SVM\n",
    "svm_param_grid = {\n",
    "    'C': [0.1, 1, 10],\n",
    "    'kernel': ['linear', 'rbf', 'poly'],\n",
    "    'gamma': ['scale', 'auto', 0.1, 1],\n",
    "}\n",
    "\n",
    "# For logit\n",
    "logit_param_grid = {\n",
    "    'penalty': ['l1', 'l2', 'elasticnet'],           \n",
    "    'C': [0.001, 0.01, 0.5, 0.1, 1, 10],\n",
    "    'l1_ratio': [0.2, 0.5, 0.8]}\n",
    "\n",
    "# For Tree\n",
    "tree_param_grid = {\n",
    "    'criterion': ['gini', 'entropy'],\n",
    "    'max_depth': [None, 10, 20, 30],\n",
    "    'min_samples_split': [2, 5, 10],\n",
    "    'min_samples_leaf': [1, 2, 4]\n",
    "}\n",
    "\n",
    "# Create GridSearchCV objects for all models\n",
    "# n_jobs for parallel running -1 is all processors\n",
    "rfc_grid_search = GridSearchCV(estimator=rfc, param_grid=rfc_param_grid, cv=5, scoring='accuracy', n_jobs=-1)\n",
    "svm_grid_search = GridSearchCV(estimator=svm_, param_grid=svm_param_grid, cv=5, scoring='accuracy', n_jobs=-1)\n",
    "log_grid_search = GridSearchCV(estimator=log_reg, param_grid=logit_param_grid, cv=5, scoring='roc_auc', n_jobs=-1)\n",
    "tree_grid_search = GridSearchCV(estimator=tree, param_grid=tree_param_grid, cv=5, scoring='accuracy', n_jobs=-1)\n",
    "\n",
    "# Perform grid search t\n",
    "rfc_grid_search.fit(x_train_oversampled, y_train_oversampled)\n",
    "svm_grid_search.fit(x_train_oversampled, y_train_oversampled)\n",
    "log_grid_search.fit(x_train_oversampled, y_train_oversampled)\n",
    "tree_grid_search.fit(x_train_oversampled, y_train_oversampled)\n",
    "\n",
    "# Best hyperparameters\n",
    "best_rfc = rfc_grid_search.best_estimator_\n",
    "best_svm = svm_grid_search.best_estimator_\n",
    "best_log = log_grid_search.best_estimator_\n",
    "best_tree = tree_grid_search.best_estimator_\n",
    "\n",
    "# Combine the optimized models into an ensemble (Voting Classifier)\n",
    "ensemble = VotingClassifier(estimators=[('rfc', best_rfc),\n",
    "                                        ('svm', best_svm),\n",
    "                                        ('logistic', best_log),\n",
    "                                        ('tree', best_tree)\n",
    "                                        ], voting='hard')\n",
    "\n",
    "# Evaluate the ensemble using cross-validation\n",
    "kfold = KFold(n_splits=5, shuffle=True, random_state=999)\n",
    "cv_scores = cross_val_score(ensemble, x_train_oversampled, y_train_oversampled, cv=kfold, scoring='accuracy')\n",
    "\n",
    "print(\"Cross-Validation Scores for Ensemble:\", cv_scores)\n",
    "print(\"Mean CV Accuracy for Ensemble:\", cv_scores.mean())\n",
    "\n",
    "# Train the ensemble model on the entire training set\n",
    "ensemble.fit(x_train_oversampled, y_train_oversampled)\n",
    "\n",
    "# Make predictions on the test set using the ensemble\n",
    "y_pred_ensemble = ensemble.predict(x_test)\n",
    "\n",
    "# Calculate accuracy and other evaluation metrics for the ensemble\n",
    "acc_ensemble = accuracy_score(y_pred_ensemble, y_test)\n",
    "print(\"Test Set Accuracy for Ensemble:\", acc_ensemble)\n",
    "\n",
    "# Calculate the confusion matrix and display it\n",
    "conf_matrix = confusion_matrix(y_pred_ensemble, y_test)\n",
    "disp = ConfusionMatrixDisplay(confusion_matrix=conf_matrix, display_labels=ensemble.classes_)\n",
    "disp.plot()\n",
    "\n",
    "# Print the classification report for the ensemble\n",
    "print(\"Classification Report for Ensemble:\\n\", classification_report(y_test, y_pred_ensemble))"
   ]
  },
  {
   "cell_type": "code",
   "execution_count": 16,
   "id": "7c642f30",
   "metadata": {},
   "outputs": [
    {
     "name": "stdout",
     "output_type": "stream",
     "text": [
      "Cross-Validation Scores for Ensemble: [0.950000 0.766667 0.800000 0.850000 0.766667]\n",
      "Mean CV Accuracy for Ensemble: 0.8266666666666668\n",
      "Test Set Accuracy for Ensemble: 0.8240343347639485\n",
      "Classification Report for Ensemble:\n",
      "               precision    recall  f1-score   support\n",
      "\n",
      "           0       0.95      0.84      0.89       402\n",
      "           1       0.42      0.75      0.54        64\n",
      "\n",
      "    accuracy                           0.82       466\n",
      "   macro avg       0.69      0.79      0.72       466\n",
      "weighted avg       0.88      0.82      0.84       466\n",
      "\n"
     ]
    },
    {
     "data": {
      "image/png": "[encoded data removed]",
      "text/plain": [
       "<Figure size 432x288 with 2 Axes>"
      ]
     },
     "metadata": {
      "needs_background": "light"
     },
     "output_type": "display_data"
    }
   ],
   "source": [
    "# Model with \n",
    "\n",
    "# Model run with imbalances\n",
    "\n",
    "from imblearn.under_sampling import RandomUnderSampler\n",
    "from sklearn.ensemble import VotingClassifier\n",
    "from sklearn.model_selection import KFold, cross_val_score\n",
    "\n",
    "# Model Instances\n",
    "# Random Forest Classifier\n",
    "rfc = RandomForestClassifier()\n",
    "# Support vector machines\n",
    "svm_ = svm.SVC() \n",
    "# Logistic Regression\n",
    "log_reg = LogisticRegression(solver='saga')\n",
    "# Decision Tree\n",
    "tree = DecisionTreeClassifier()\n",
    "\n",
    "# Create an instance of the RandomUnderSampler\n",
    "undersampler = RandomUnderSampler(sampling_strategy='auto', random_state=42)\n",
    "\n",
    "# Apply random undersampling to the training data\n",
    "x_train_undersampled, y_train_undersampled = undersampler.fit_resample(x_train, y_train)\n",
    "\n",
    "# Define the hyperparameter grid to search\n",
    "# random forest\n",
    "rfc_param_grid = {\n",
    "    'n_estimators': [100, 200, 300],\n",
    "    'max_depth': [10, 20, 30],\n",
    "    'min_samples_leaf': [1, 2, 4]\n",
    "}\n",
    "\n",
    "# for the SVM\n",
    "svm_param_grid = {\n",
    "    'C': [0.1, 1, 10],\n",
    "    'kernel': ['linear', 'rbf', 'poly'],\n",
    "    'gamma': ['scale', 'auto', 0.1, 1],\n",
    "}\n",
    "\n",
    "# For logit\n",
    "logit_param_grid = {\n",
    "    'penalty': ['l1', 'l2', 'elasticnet'],           \n",
    "    'C': [0.001, 0.01, 0.5, 0.1, 1, 10],\n",
    "    'l1_ratio': [0.2, 0.5, 0.8]}\n",
    "\n",
    "# For Tree\n",
    "tree_param_grid = {\n",
    "    'criterion': ['gini', 'entropy'],\n",
    "    'max_depth': [None, 10, 20, 30],\n",
    "    'min_samples_split': [2, 5, 10],\n",
    "    'min_samples_leaf': [1, 2, 4]\n",
    "}\n",
    "\n",
    "# Create GridSearchCV objects for all models\n",
    "# n_jobs for parallel running -1 is all processors\n",
    "rfc_grid_search = GridSearchCV(estimator=rfc, param_grid=rfc_param_grid, cv=5, scoring='accuracy', n_jobs=-1)\n",
    "svm_grid_search = GridSearchCV(estimator=svm_, param_grid=svm_param_grid, cv=5, scoring='accuracy', n_jobs=-1)\n",
    "log_grid_search = GridSearchCV(estimator=log_reg, param_grid=logit_param_grid, cv=5, scoring='roc_auc', n_jobs=-1)\n",
    "tree_grid_search = GridSearchCV(estimator=tree, param_grid=tree_param_grid, cv=5, scoring='accuracy', n_jobs=-1)\n",
    "\n",
    "# Perform grid search t\n",
    "rfc_grid_search.fit(x_train_undersampled, y_train_undersampled)\n",
    "svm_grid_search.fit(x_train_undersampled, y_train_undersampled)\n",
    "log_grid_search.fit(x_train_undersampled, y_train_undersampled)\n",
    "tree_grid_search.fit(x_train_undersampled, y_train_undersampled)\n",
    "\n",
    "# Best hyperparameters\n",
    "best_rfc = rfc_grid_search.best_estimator_\n",
    "best_svm = svm_grid_search.best_estimator_\n",
    "best_log = log_grid_search.best_estimator_\n",
    "best_tree = tree_grid_search.best_estimator_\n",
    "\n",
    "# Combine the optimized models into an ensemble (Voting Classifier)\n",
    "ensemble = VotingClassifier(estimators=[('rfc', best_rfc),\n",
    "                                        ('svm', best_svm),\n",
    "                                        ('logistic', best_log),\n",
    "                                        ('tree', best_tree)\n",
    "                                        ], voting='hard')\n",
    "\n",
    "# Evaluate the ensemble using cross-validation\n",
    "kfold = KFold(n_splits=5, shuffle=True, random_state=999)\n",
    "cv_scores = cross_val_score(ensemble, x_train_undersampled, y_train_undersampled, cv=kfold, scoring='accuracy')\n",
    "\n",
    "print(\"Cross-Validation Scores for Ensemble:\", cv_scores)\n",
    "print(\"Mean CV Accuracy for Ensemble:\", cv_scores.mean())\n",
    "\n",
    "# Train the ensemble model on the entire training set\n",
    "ensemble.fit(x_train_undersampled, y_train_undersampled)\n",
    "\n",
    "# Make predictions on the test set using the ensemble\n",
    "y_pred_ensemble = ensemble.predict(x_test)\n",
    "\n",
    "# Calculate accuracy and other evaluation metrics for the ensemble\n",
    "acc_ensemble = accuracy_score(y_pred_ensemble, y_test)\n",
    "print(\"Test Set Accuracy for Ensemble:\", acc_ensemble)\n",
    "\n",
    "# Calculate the confusion matrix and display it\n",
    "conf_matrix = confusion_matrix(y_pred_ensemble, y_test)\n",
    "disp = ConfusionMatrixDisplay(confusion_matrix=conf_matrix, display_labels=ensemble.classes_)\n",
    "disp.plot()\n",
    "\n",
    "# Print the classification report for the ensemble\n",
    "print(\"Classification Report for Ensemble:\\n\", classification_report(y_test, y_pred_ensemble))"
   ]
  },
  {
   "cell_type": "code",
   "execution_count": 17,
   "id": "fb3ed176",
   "metadata": {},
   "outputs": [
    {
     "name": "stdout",
     "output_type": "stream",
     "text": [
      "Cross-Validation Scores for Ensemble: [0.916667 0.966667 0.922222 0.927374 0.960894]\n",
      "Mean CV Accuracy for Ensemble: 0.9387647423960273\n",
      "Test Set Accuracy for Ensemble: 0.8562231759656652\n",
      "Classification Report for Ensemble:\n",
      "               precision    recall  f1-score   support\n",
      "\n",
      "           0       0.94      0.89      0.91       402\n",
      "           1       0.48      0.62      0.54        64\n",
      "\n",
      "    accuracy                           0.86       466\n",
      "   macro avg       0.71      0.76      0.73       466\n",
      "weighted avg       0.87      0.86      0.86       466\n",
      "\n"
     ]
    },
    {
     "data": {
      "image/png": "[encoded data removed]",
      "text/plain": [
       "<Figure size 432x288 with 2 Axes>"
      ]
     },
     "metadata": {
      "needs_background": "light"
     },
     "output_type": "display_data"
    }
   ],
   "source": [
    "from imblearn.under_sampling import EditedNearestNeighbours\n",
    "from imblearn.over_sampling import SMOTE\n",
    "\n",
    "# Model with \n",
    "\n",
    "# Model run with imbalances\n",
    "\n",
    "from imblearn.under_sampling import RandomUnderSampler\n",
    "from sklearn.ensemble import VotingClassifier\n",
    "from sklearn.model_selection import KFold, cross_val_score\n",
    "\n",
    "# Model Instances\n",
    "# Random Forest Classifier\n",
    "rfc = RandomForestClassifier()\n",
    "# Support vector machines\n",
    "svm_ = svm.SVC() \n",
    "# Logistic Regression\n",
    "log_reg = LogisticRegression(solver='saga')\n",
    "# Decision Tree\n",
    "tree = DecisionTreeClassifier()\n",
    "\n",
    "x_all_under1, y_all_under1 = EditedNearestNeighbours(sampling_strategy='majority', n_neighbors=3).fit_resample(x_train, y_train)\n",
    "\n",
    "# Define the hyperparameter grid to search\n",
    "# random forest\n",
    "rfc_param_grid = {\n",
    "    'n_estimators': [100, 200, 300],\n",
    "    'max_depth': [10, 20, 30],\n",
    "    'min_samples_leaf': [1, 2, 4]\n",
    "}\n",
    "\n",
    "# for the SVM\n",
    "svm_param_grid = {\n",
    "    'C': [0.1, 1, 10],\n",
    "    'kernel': ['linear', 'rbf', 'poly'],\n",
    "    'gamma': ['scale', 'auto', 0.1, 1],\n",
    "}\n",
    "\n",
    "# For logit\n",
    "logit_param_grid = {\n",
    "    'penalty': ['l1', 'l2', 'elasticnet'],           \n",
    "    'C': [0.001, 0.01, 0.5, 0.1, 1, 10],\n",
    "    'l1_ratio': [0.2, 0.5, 0.8]}\n",
    "\n",
    "# For Tree\n",
    "tree_param_grid = {\n",
    "    'criterion': ['gini', 'entropy'],\n",
    "    'max_depth': [None, 10, 20, 30],\n",
    "    'min_samples_split': [2, 5, 10],\n",
    "    'min_samples_leaf': [1, 2, 4]\n",
    "}\n",
    "\n",
    "# Create GridSearchCV objects for all models\n",
    "# n_jobs for parallel running -1 is all processors\n",
    "rfc_grid_search = GridSearchCV(estimator=rfc, param_grid=rfc_param_grid, cv=5, scoring='accuracy', n_jobs=-1)\n",
    "svm_grid_search = GridSearchCV(estimator=svm_, param_grid=svm_param_grid, cv=5, scoring='accuracy', n_jobs=-1)\n",
    "log_grid_search = GridSearchCV(estimator=log_reg, param_grid=logit_param_grid, cv=5, scoring='roc_auc', n_jobs=-1)\n",
    "tree_grid_search = GridSearchCV(estimator=tree, param_grid=tree_param_grid, cv=5, scoring='accuracy', n_jobs=-1)\n",
    "\n",
    "# Perform grid search t\n",
    "rfc_grid_search.fit(x_all_under1, y_all_under1)\n",
    "svm_grid_search.fit(x_all_under1, y_all_under1)\n",
    "log_grid_search.fit(x_all_under1, y_all_under1)\n",
    "tree_grid_search.fit(x_all_under1, y_all_under1)\n",
    "\n",
    "# Best hyperparameters\n",
    "best_rfc = rfc_grid_search.best_estimator_\n",
    "best_svm = svm_grid_search.best_estimator_\n",
    "best_log = log_grid_search.best_estimator_\n",
    "best_tree = tree_grid_search.best_estimator_\n",
    "\n",
    "# Combine the optimized models into an ensemble (Voting Classifier)\n",
    "ensemble = VotingClassifier(estimators=[('rfc', best_rfc),\n",
    "                                        ('svm', best_svm),\n",
    "                                        ('logistic', best_log),\n",
    "                                        ('tree', best_tree)\n",
    "                                        ], voting='hard')\n",
    "\n",
    "# Evaluate the ensemble using cross-validation\n",
    "kfold = KFold(n_splits=5, shuffle=True, random_state=999)\n",
    "cv_scores = cross_val_score(ensemble, x_all_under1, y_all_under1, cv=kfold, scoring='accuracy')\n",
    "\n",
    "print(\"Cross-Validation Scores for Ensemble:\", cv_scores)\n",
    "print(\"Mean CV Accuracy for Ensemble:\", cv_scores.mean())\n",
    "\n",
    "# Train the ensemble model on the entire training set\n",
    "ensemble.fit(x_all_under1, y_all_under1)\n",
    "\n",
    "# Make predictions on the test set using the ensemble\n",
    "y_pred_ensemble = ensemble.predict(x_test)\n",
    "\n",
    "# Calculate accuracy and other evaluation metrics for the ensemble\n",
    "acc_ensemble = accuracy_score(y_pred_ensemble, y_test)\n",
    "print(\"Test Set Accuracy for Ensemble:\", acc_ensemble)\n",
    "\n",
    "# Calculate the confusion matrix and display it\n",
    "conf_matrix = confusion_matrix(y_pred_ensemble, y_test)\n",
    "disp = ConfusionMatrixDisplay(confusion_matrix=conf_matrix, display_labels=ensemble.classes_)\n",
    "disp.plot()\n",
    "\n",
    "# Print the classification report for the ensemble\n",
    "print(\"Classification Report for Ensemble:\\n\", classification_report(y_test, y_pred_ensemble))"
   ]
  },
  {
   "cell_type": "code",
   "execution_count": 18,
   "id": "841530ed",
   "metadata": {},
   "outputs": [
    {
     "name": "stdout",
     "output_type": "stream",
     "text": [
      "Cross-Validation Scores for Ensemble: [0.933333 0.949833 0.963211 0.946488 0.966555]\n",
      "Mean CV Accuracy for Ensemble: 0.9518840579710144\n",
      "Test Set Accuracy for Ensemble: 0.8562231759656652\n",
      "Classification Report for Ensemble:\n",
      "               precision    recall  f1-score   support\n",
      "\n",
      "           0       0.95      0.88      0.91       402\n",
      "           1       0.48      0.73      0.58        64\n",
      "\n",
      "    accuracy                           0.86       466\n",
      "   macro avg       0.72      0.80      0.75       466\n",
      "weighted avg       0.89      0.86      0.87       466\n",
      "\n"
     ]
    },
    {
     "data": {
      "image/png": "[encoded data removed]",
      "text/plain": [
       "<Figure size 432x288 with 2 Axes>"
      ]
     },
     "metadata": {
      "needs_background": "light"
     },
     "output_type": "display_data"
    }
   ],
   "source": [
    "from imblearn.under_sampling import EditedNearestNeighbours\n",
    "from imblearn.over_sampling import SMOTE\n",
    "\n",
    "# Model with \n",
    "\n",
    "# Model run with imbalances\n",
    "\n",
    "from imblearn.under_sampling import RandomUnderSampler\n",
    "from sklearn.ensemble import VotingClassifier\n",
    "from sklearn.model_selection import KFold, cross_val_score\n",
    "\n",
    "# Model Instances\n",
    "# Random Forest Classifier\n",
    "rfc = RandomForestClassifier()\n",
    "# Support vector machines\n",
    "svm_ = svm.SVC() \n",
    "# Logistic Regression\n",
    "log_reg = LogisticRegression(solver='saga')\n",
    "# Decision Tree\n",
    "tree = DecisionTreeClassifier()\n",
    "\n",
    "# Melanies_technique \n",
    "# if len(wine_data) < 5000:\n",
    "#     nneigbrs = 500\n",
    "# else:\n",
    "#     nneigbrs = 1000\n",
    "\n",
    "X_all_under, y_all_under = EditedNearestNeighbours(sampling_strategy='majority', n_neighbors=3).fit_resample(x_train, y_train)\n",
    "x_all_under2, y_all_under2 = SMOTE(sampling_strategy=1, random_state=42).fit_resample(X_all_under, y_all_under)\n",
    "\n",
    "# Define the hyperparameter grid to search\n",
    "# random forest\n",
    "rfc_param_grid = {\n",
    "    'n_estimators': [100, 200, 300],\n",
    "    'max_depth': [10, 20, 30],\n",
    "    'min_samples_leaf': [1, 2, 4]\n",
    "}\n",
    "\n",
    "# for the SVM\n",
    "svm_param_grid = {\n",
    "    'C': [0.1, 1, 10],\n",
    "    'kernel': ['linear', 'rbf', 'poly'],\n",
    "    'gamma': ['scale', 'auto', 0.1, 1],\n",
    "}\n",
    "\n",
    "# For logit\n",
    "logit_param_grid = {\n",
    "    'penalty': ['l1', 'l2', 'elasticnet'],           \n",
    "    'C': [0.001, 0.01, 0.5, 0.1, 1, 10],\n",
    "    'l1_ratio': [0.2, 0.5, 0.8]}\n",
    "\n",
    "# For Tree\n",
    "tree_param_grid = {\n",
    "    'criterion': ['gini', 'entropy'],\n",
    "    'max_depth': [None, 10, 20, 30],\n",
    "    'min_samples_split': [2, 5, 10],\n",
    "    'min_samples_leaf': [1, 2, 4]\n",
    "}\n",
    "\n",
    "# Create GridSearchCV objects for all models\n",
    "# n_jobs for parallel running -1 is all processors\n",
    "rfc_grid_search = GridSearchCV(estimator=rfc, param_grid=rfc_param_grid, cv=5, scoring='accuracy', n_jobs=-1)\n",
    "svm_grid_search = GridSearchCV(estimator=svm_, param_grid=svm_param_grid, cv=5, scoring='accuracy', n_jobs=-1)\n",
    "log_grid_search = GridSearchCV(estimator=log_reg, param_grid=logit_param_grid, cv=5, scoring='roc_auc', n_jobs=-1)\n",
    "tree_grid_search = GridSearchCV(estimator=tree, param_grid=tree_param_grid, cv=5, scoring='accuracy', n_jobs=-1)\n",
    "\n",
    "# Perform grid search t\n",
    "rfc_grid_search.fit(x_all_under2, y_all_under2)\n",
    "svm_grid_search.fit(x_all_under2, y_all_under2)\n",
    "log_grid_search.fit(x_all_under2, y_all_under2)\n",
    "tree_grid_search.fit(x_all_under2, y_all_under2)\n",
    "\n",
    "# Best hyperparameters\n",
    "best_rfc = rfc_grid_search.best_estimator_\n",
    "best_svm = svm_grid_search.best_estimator_\n",
    "best_log = log_grid_search.best_estimator_\n",
    "best_tree = tree_grid_search.best_estimator_\n",
    "\n",
    "# Combine the optimized models into an ensemble (Voting Classifier)\n",
    "ensemble = VotingClassifier(estimators=[('rfc', best_rfc),\n",
    "                                        ('svm', best_svm),\n",
    "                                        ('logistic', best_log),\n",
    "                                        ('tree', best_tree)\n",
    "                                        ], voting='hard')\n",
    "\n",
    "# Evaluate the ensemble using cross-validation\n",
    "kfold = KFold(n_splits=5, shuffle=True, random_state=999)\n",
    "cv_scores = cross_val_score(ensemble, x_all_under2, y_all_under2, cv=kfold, scoring='accuracy')\n",
    "\n",
    "print(\"Cross-Validation Scores for Ensemble:\", cv_scores)\n",
    "print(\"Mean CV Accuracy for Ensemble:\", cv_scores.mean())\n",
    "\n",
    "# Train the ensemble model on the entire training set\n",
    "ensemble.fit(x_all_under2, y_all_under2)\n",
    "\n",
    "# Make predictions on the test set using the ensemble\n",
    "y_pred_ensemble = ensemble.predict(x_test)\n",
    "\n",
    "# Calculate accuracy and other evaluation metrics for the ensemble\n",
    "acc_ensemble = accuracy_score(y_pred_ensemble, y_test)\n",
    "print(\"Test Set Accuracy for Ensemble:\", acc_ensemble)\n",
    "\n",
    "# Calculate the confusion matrix and display it\n",
    "conf_matrix = confusion_matrix(y_pred_ensemble, y_test)\n",
    "disp = ConfusionMatrixDisplay(confusion_matrix=conf_matrix, display_labels=ensemble.classes_)\n",
    "disp.plot()\n",
    "\n",
    "# Print the classification report for the ensemble\n",
    "print(\"Classification Report for Ensemble:\\n\", classification_report(y_test, y_pred_ensemble))"
   ]
  },
  {
   "cell_type": "code",
   "execution_count": 19,
   "id": "c564268c",
   "metadata": {},
   "outputs": [
    {
     "name": "stdout",
     "output_type": "stream",
     "text": [
      "Orig y_train               : 1085 class 1 ratio 0.1382488479262673\n",
      "Orig y_train_sampled SMOTE : 1870 class 1 ratio 0.5\n",
      "Orig y_train_oversampled   : 1870 class 1 ratio 0.5\n",
      "Orig y_train_undersampled  : 300 class 1 ratio 0.5\n",
      "Orig y_train_EditedNearest : 898 class 1 ratio 0.16703786191536749\n",
      "Orig y_train_Edited&SMOTE  : 1496 class 1 ratio 0.5\n"
     ]
    }
   ],
   "source": [
    "print('Orig y_train               :', len(y_train), 'class 1 ratio', (y_train == 1).sum() / (y_train).count())\n",
    "print('Orig y_train_sampled SMOTE :', len(y_train_resampled), 'class 1 ratio', (y_train_resampled == 1).sum() / len(y_train_resampled))\n",
    "print('Orig y_train_oversampled   :', len(y_train_oversampled), 'class 1 ratio', (y_train_oversampled == 1).sum() / len(y_train_oversampled))\n",
    "print('Orig y_train_undersampled  :', len(y_train_undersampled), 'class 1 ratio', (y_train_undersampled == 1).sum() / len(y_train_undersampled))\n",
    "print('Orig y_train_EditedNearest :', len(y_all_under1), 'class 1 ratio', (y_all_under1 == 1).sum() / len(y_all_under1))\n",
    "print('Orig y_train_Edited&SMOTE  :', len(y_all_under2), 'class 1 ratio', (y_all_under2 == 1).sum() / len(y_all_under2))"
   ]
  },
  {
   "cell_type": "code",
   "execution_count": 20,
   "id": "775f148d",
   "metadata": {},
   "outputs": [
    {
     "name": "stdout",
     "output_type": "stream",
     "text": [
      "class 1 ratio 64\n"
     ]
    },
    {
     "data": {
      "text/plain": [
       "('class 1 ratio', 402)"
      ]
     },
     "execution_count": 20,
     "metadata": {},
     "output_type": "execute_result"
    }
   ],
   "source": [
    "print('class 1 ratio', (y_test == 1).sum())\n",
    "'class 1 ratio', (y_test == 0).sum()"
   ]
  }
 ],
 "metadata": {
  "celltoolbar": "Raw Cell Format",
  "kernelspec": {
   "display_name": "Python 3 (ipykernel)",
   "language": "python",
   "name": "python3"
  },
  "language_info": {
   "codemirror_mode": {
    "name": "ipython",
    "version": 3
   },
   "file_extension": ".py",
   "mimetype": "text/x-python",
   "name": "python",
   "nbconvert_exporter": "python",
   "pygments_lexer": "ipython3",
   "version": "3.9.18"
  }
 },
 "nbformat": 4,
 "nbformat_minor": 5
}
