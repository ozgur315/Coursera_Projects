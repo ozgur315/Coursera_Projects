{
 "cells": [
  {
   "cell_type": "code",
   "execution_count": 1,
   "id": "3775b73a",
   "metadata": {},
   "outputs": [],
   "source": [
    "import optuna\n",
    "import pandas as pd\n",
    "import numpy as np\n",
    "from sklearn.linear_model import LogisticRegression\n",
    "from sklearn.preprocessing import StandardScaler\n",
    "from sklearn.model_selection import train_test_split, GridSearchCV\n",
    "\n",
    "from sklearn.metrics import average_precision_score"
   ]
  },
  {
   "cell_type": "code",
   "execution_count": 2,
   "id": "0dc9d53c",
   "metadata": {},
   "outputs": [
    {
     "name": "stdout",
     "output_type": "stream",
     "text": [
      "Index(['fixed_acidity', 'volatile_acidity', 'citric_acid', 'residual_sugar',\n",
      "       'chlorides', 'free_sulfur_dioxide', 'total_sulfur_dioxide', 'density',\n",
      "       'pH', 'sulphates', 'alcohol'],\n",
      "      dtype='object')\n"
     ]
    }
   ],
   "source": [
    "wine_data = pd.read_csv('winequality_red.csv')\n",
    "x = wine_data.drop('good', axis =1)\n",
    "\n",
    "# indep_var\n",
    "y = wine_data['good']\n",
    "\n",
    "indep_vars = x.columns\n",
    "print(indep_vars)\n",
    "\n",
    "scaler = StandardScaler()\n",
    "\n",
    "scaler.fit(x)\n",
    "scaled_x = scaler.transform(x)\n",
    "\n",
    "x_train, x_test, y_train, y_test = train_test_split(scaled_x, y , test_size = 0.3, random_state  = 999)"
   ]
  },
  {
   "cell_type": "code",
   "execution_count": 3,
   "id": "b4ca4ced",
   "metadata": {},
   "outputs": [
    {
     "name": "stdout",
     "output_type": "stream",
     "text": [
      "Best Hyperparameters: {'C': 0.1, 'l1_ratio': 0.1, 'penalty': 'elasticnet'}\n",
      "Val0 0.22923992897183246\n",
      "Val1 0.2023834961334961\n"
     ]
    }
   ],
   "source": [
    "# Def logit modl w gridsearch\n",
    "\n",
    "# Create regression instance, saga solver because l1 and l2 support.\n",
    "log_reg = LogisticRegression(n_jobs=-1, penalty='elasticnet',  random_state=0, solver='saga',\n",
    "                             fit_intercept=True) \n",
    "\n",
    "# Define a grid of hyperparameters to search\n",
    "# # Regularization type and C hyperparameter\n",
    "parameters = {\n",
    "    'penalty': ['elasticnet'],           \n",
    "    'C': [0.001, 0.01, 0.5, 0.1, 1, 10],\n",
    "    'l1_ratio': [0.1, 0.2, 0.5, 0.8]}\n",
    "\n",
    "# Perform Grid Search with Cross-Validation\n",
    "grid_search = GridSearchCV(estimator = log_reg, param_grid = parameters, scoring = 'roc_auc', cv=5, verbose=0)\n",
    "grid_search.fit(x_train, y_train)\n",
    "\n",
    "# Get the best hyperparameters\n",
    "best_params = grid_search.best_params_\n",
    "print(\"Best Hyperparameters:\", best_params)\n",
    "\n",
    "# Fit the model with the best hyperparameters on the training data\n",
    "log_Reg2 = LogisticRegression(solver='saga', **best_params)\n",
    "log_Reg2.fit(x_train, y_train)\n",
    "\n",
    "print('Val0', average_precision_score(log_Reg2.predict(x_train), y_train))\n",
    "print('Val1', average_precision_score(log_Reg2.predict(x_test), y_test))"
   ]
  },
  {
   "cell_type": "code",
   "execution_count": 4,
   "id": "78f56ec3",
   "metadata": {},
   "outputs": [],
   "source": [
    "def create_objective_tgm(variables0, x_train, x_test, y_train, y_test):\n",
    "\n",
    "    def objective(trial):\n",
    "        # Suggest a value between 0 and 1\n",
    "        min_hyper = 1e-2\n",
    "        max_hyper = 10\n",
    "        l1_ratio = trial.suggest_float('l1_ratio', 0, 1)\n",
    "        # Suggest a value from a logarithmic scale\n",
    "        C = trial.suggest_float('C', min_hyper, max_hyper, log=True)\n",
    "        \n",
    "        _tgmodel = LogisticRegression(n_jobs=-1, penalty='elasticnet',  random_state=0, solver='saga',\n",
    "                                      l1_ratio=l1_ratio, C=C, fit_intercept=True)\n",
    "        variables = variables0\n",
    "        \n",
    "        # indep_vars_index = [tgmodel.all_vars_init.index(x) for x in variables]\n",
    "\n",
    "        _tgmodel.fit(x_train, y_train)\n",
    "\n",
    "        score_train = average_precision_score(_tgmodel.predict(x_train), y_train)\n",
    "        \n",
    "        score_test = average_precision_score(_tgmodel.predict(x_test), y_test)\n",
    "        \n",
    "        trial.set_user_attr(\"final_features\", variables)\n",
    "        trial.set_user_attr(\"final_coeffs\", _tgmodel.coef_)\n",
    "        trial.set_user_attr('final_removed', [x for x in variables0 if x not in variables])\n",
    "        \n",
    "        return score_train, score_test\n",
    "\n",
    "    return objective"
   ]
  },
  {
   "cell_type": "code",
   "execution_count": 15,
   "id": "0f2c1118",
   "metadata": {
    "scrolled": false
   },
   "outputs": [
    {
     "name": "stderr",
     "output_type": "stream",
     "text": [
      "[I 2023-12-06 18:57:31,340] A new study created in memory with name: no-name-da13e20c-7818-4e1a-a193-692ede54204f\n",
      "[I 2023-12-06 18:57:31,487] Trial 5 finished with values: [0.22836805732248092, 0.184593837535014] and parameters: {'l1_ratio': 0.1306614934693242, 'C': 0.05800480245404324}. \n",
      "[I 2023-12-06 18:57:31,501] Trial 2 finished with values: [0.17953867563908998, 0.13468915343915344] and parameters: {'l1_ratio': 0.4443395973466012, 'C': 0.035068011614143704}. \n",
      "[I 2023-12-06 18:57:31,739] Trial 0 finished with values: [0.20262383412085044, 0.1646164021164021] and parameters: {'l1_ratio': 0.8035790125681523, 'C': 0.08253123654274648}. \n",
      "[I 2023-12-06 18:57:31,894] Trial 7 finished with values: [0.24879204436845187, 0.21458333333333332] and parameters: {'l1_ratio': 0.6948453826638531, 'C': 0.18147147398621}. \n",
      "[I 2023-12-06 18:57:31,910] Trial 4 finished with values: [0.26930853190444576, 0.23694167589516424] and parameters: {'l1_ratio': 0.23707277961022954, 'C': 4.643684595984111}. \n",
      "[I 2023-12-06 18:57:31,914] Trial 6 finished with values: [0.27123463127889835, 0.23694167589516424] and parameters: {'l1_ratio': 0.3635657517808325, 'C': 0.6332145222320111}. \n",
      "[I 2023-12-06 18:57:32,048] Trial 3 finished with values: [0.26168327080824255, 0.20039682539682538] and parameters: {'l1_ratio': 0.35736507404030793, 'C': 0.337812322217824}. \n",
      "[I 2023-12-06 18:57:32,330] Trial 1 finished with values: [0.26930853190444576, 0.23694167589516424] and parameters: {'l1_ratio': 0.7853412100478597, 'C': 9.977465814983422}. \n",
      "[I 2023-12-06 18:57:32,640] Trial 8 finished with values: [0.012421224887712823, 0.052425044091710754] and parameters: {'l1_ratio': 0.6601553637731131, 'C': 0.014647864103979561}. \n",
      "[I 2023-12-06 18:57:32,779] Trial 9 finished with values: [0.26930853190444576, 0.23694167589516424] and parameters: {'l1_ratio': 0.46078081820265426, 'C': 1.1755995713939165}. \n",
      "[I 2023-12-06 18:57:33,032] Trial 10 finished with values: [0.26930853190444576, 0.23694167589516424] and parameters: {'l1_ratio': 0.260107219635364, 'C': 1.2013876583899006}. \n",
      "[I 2023-12-06 18:57:33,034] Trial 12 finished with values: [0.2117906437958208, 0.16720374931581827] and parameters: {'l1_ratio': 0.49757663990931467, 'C': 0.07006712674398409}. \n",
      "[I 2023-12-06 18:57:33,044] Trial 11 finished with values: [0.26930853190444576, 0.23694167589516424] and parameters: {'l1_ratio': 0.9907055792677109, 'C': 2.67939158692627}. \n",
      "[I 2023-12-06 18:57:33,163] Trial 13 finished with values: [0.26930853190444576, 0.23694167589516424] and parameters: {'l1_ratio': 0.3418375243085129, 'C': 2.755088931958083}. \n",
      "[I 2023-12-06 18:57:33,290] Trial 14 finished with values: [0.009551663707159685, 0.00625] and parameters: {'l1_ratio': 0.573860805995467, 'C': 0.010874302723126988}. \n",
      "[I 2023-12-06 18:57:33,433] Trial 15 finished with values: [0.26548818893874876, 0.20039682539682538] and parameters: {'l1_ratio': 0.2990711417213304, 'C': 0.4106764962361024}. \n",
      "[I 2023-12-06 18:57:33,863] Trial 16 finished with values: [0.25021073323128734, 0.2123983739837398] and parameters: {'l1_ratio': 0.7538358320991125, 'C': 0.48843300492425784}. \n",
      "[I 2023-12-06 18:57:33,984] Trial 17 finished with values: [0.2674465178578023, 0.23694167589516424] and parameters: {'l1_ratio': 0.030593538466151593, 'C': 0.7770616061437564}. \n",
      "[I 2023-12-06 18:57:34,186] Trial 18 finished with values: [0.26930853190444576, 0.23694167589516424] and parameters: {'l1_ratio': 0.054620758100577205, 'C': 8.817888462073094}. \n",
      "[I 2023-12-06 18:57:34,194] Trial 19 finished with values: [0.26930853190444576, 0.23694167589516424] and parameters: {'l1_ratio': 0.19844106774744819, 'C': 7.478869724275786}. \n"
     ]
    }
   ],
   "source": [
    "# Create a study for optuna\n",
    "sampler = optuna.samplers.TPESampler(seed=42)\n",
    "\n",
    "study = optuna.create_study(\n",
    "    directions=['maximize', 'maximize'], sampler=sampler, pruner=optuna.pruners.HyperbandPruner())\n",
    "\n",
    "study.optimize(create_objective_tgm(indep_vars, x_train, x_test, y_train, y_test),\n",
    "               n_trials= 20, \n",
    "               n_jobs= -1, \n",
    "               catch=(), \n",
    "               gc_after_trial=True)\n",
    "\n",
    "best_trials = study.trials_dataframe()"
   ]
  },
  {
   "cell_type": "code",
   "execution_count": 6,
   "id": "ec2c8468",
   "metadata": {},
   "outputs": [
    {
     "name": "stdout",
     "output_type": "stream",
     "text": [
      "C        7.114476009343421\n",
      "l1_ratio 0.3745401188473625\n",
      "Val 0    0.26930853190444576\n",
      "Val 1    0.23694167589516424\n"
     ]
    }
   ],
   "source": [
    "C = best_trials['params_C'][0]\n",
    "l1_ratio = best_trials['params_l1_ratio'][0]\n",
    "indep_vars = best_trials['user_attrs_final_features'][0]\n",
    "\n",
    "print('C       ', C)\n",
    "print('l1_ratio', l1_ratio)\n",
    "print('Val 0   ', best_trials['values_0'][0])\n",
    "print('Val 1   ', best_trials['values_1'][0])"
   ]
  },
  {
   "cell_type": "code",
   "execution_count": 8,
   "id": "3d1e7bc6",
   "metadata": {},
   "outputs": [
    {
     "name": "stdout",
     "output_type": "stream",
     "text": [
      "C        7.114476009343421\n",
      "l1_ratio 0.3745401188473625\n",
      "Val 0    0.26930853190444576\n",
      "Val 1    0.23694167589516424\n"
     ]
    }
   ],
   "source": [
    "C = best_trials['params_C'][0]\n",
    "l1_ratio = best_trials['params_l1_ratio'][0]\n",
    "indep_vars = best_trials['user_attrs_final_features'][0]\n",
    "\n",
    "print('C       ', C)\n",
    "print('l1_ratio', l1_ratio)\n",
    "print('Val 0   ', best_trials['values_0'][0])\n",
    "print('Val 1   ', best_trials['values_1'][0])"
   ]
  },
  {
   "cell_type": "code",
   "execution_count": 16,
   "id": "68a7170e",
   "metadata": {},
   "outputs": [
    {
     "name": "stdout",
     "output_type": "stream",
     "text": [
      "C        0.08253123654274648\n",
      "l1_ratio 0.8035790125681523\n",
      "Val 0    0.20262383412085044\n",
      "Val 1    0.1646164021164021\n"
     ]
    }
   ],
   "source": [
    "C = best_trials['params_C'][0]\n",
    "l1_ratio = best_trials['params_l1_ratio'][0]\n",
    "indep_vars = best_trials['user_attrs_final_features'][0]\n",
    "\n",
    "print('C       ', C)\n",
    "print('l1_ratio', l1_ratio)\n",
    "print('Val 0   ', best_trials['values_0'][0])\n",
    "print('Val 1   ', best_trials['values_1'][0])"
   ]
  },
  {
   "cell_type": "code",
   "execution_count": 12,
   "id": "875adcb1",
   "metadata": {},
   "outputs": [
    {
     "name": "stdout",
     "output_type": "stream",
     "text": [
      "C        2.9253981196925185\n",
      "l1_ratio 0.8438981427233\n",
      "Val 0    0.26930853190444576\n",
      "Val 1    0.23694167589516424\n"
     ]
    }
   ],
   "source": [
    "C = best_trials['params_C'][0]\n",
    "l1_ratio = best_trials['params_l1_ratio'][0]\n",
    "indep_vars = best_trials['user_attrs_final_features'][0]\n",
    "\n",
    "print('C       ', C)\n",
    "print('l1_ratio', l1_ratio)\n",
    "print('Val 0   ', best_trials['values_0'][0])\n",
    "print('Val 1   ', best_trials['values_1'][0])"
   ]
  },
  {
   "cell_type": "code",
   "execution_count": 14,
   "id": "8b9792ef",
   "metadata": {},
   "outputs": [
    {
     "name": "stdout",
     "output_type": "stream",
     "text": [
      "C        0.1448202507113456\n",
      "l1_ratio 0.06102588367650874\n",
      "Val 0    0.24834325638615182\n",
      "Val 1    0.20039682539682538\n"
     ]
    }
   ],
   "source": [
    "C = best_trials['params_C'][0]\n",
    "l1_ratio = best_trials['params_l1_ratio'][0]\n",
    "indep_vars = best_trials['user_attrs_final_features'][0]\n",
    "\n",
    "print('C       ', C)\n",
    "print('l1_ratio', l1_ratio)\n",
    "print('Val 0   ', best_trials['values_0'][0])\n",
    "print('Val 1   ', best_trials['values_1'][0])"
   ]
  }
 ],
 "metadata": {
  "kernelspec": {
   "display_name": "Python 3 (ipykernel)",
   "language": "python",
   "name": "python3"
  },
  "language_info": {
   "codemirror_mode": {
    "name": "ipython",
    "version": 3
   },
   "file_extension": ".py",
   "mimetype": "text/x-python",
   "name": "python",
   "nbconvert_exporter": "python",
   "pygments_lexer": "ipython3",
   "version": "3.9.18"
  }
 },
 "nbformat": 4,
 "nbformat_minor": 5
}
