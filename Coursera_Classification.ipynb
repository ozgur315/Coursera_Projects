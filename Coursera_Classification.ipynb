{
 "cells": [
  {
   "cell_type": "markdown",
   "id": "0660e1c7",
   "metadata": {},
   "source": [
    "Coursera project for Classification \n",
    "AU:Ozgur Gulari\n",
    "\n",
    "Objective:\n",
    "The main objective of my project is to focus on predicting. \n",
    "Based on the given information define if the wine is good or not. \n",
    "\n",
    "Dependent variable : column good(boolean: 1 as True\n",
    "                                          0 as False)\n",
    "                                          \n"
   ]
  },
  {
   "cell_type": "code",
   "execution_count": 1,
   "id": "3d7f4cdf",
   "metadata": {},
   "outputs": [
    {
     "data": {
      "text/html": [
       "<style>.container { width:80% !important; }</style>"
      ],
      "text/plain": [
       "<IPython.core.display.HTML object>"
      ]
     },
     "metadata": {},
     "output_type": "display_data"
    }
   ],
   "source": [
    "from IPython.display import display, HTML\n",
    "display(HTML(\"<style>.container { width:80% !important; }</style>\"))\n",
    "\n",
    "# Import necessary libraries\n",
    "import pandas as pd\n",
    "import numpy as np\n",
    "import matplotlib.pyplot as plt\n",
    "import seaborn as sns\n",
    "\n",
    "# for multicollinearity\n",
    "from statsmodels.stats.outliers_influence import variance_inflation_factor\n",
    "from statsmodels.tools.tools import add_constant\n",
    "\n",
    "# Scaler\n",
    "from sklearn.preprocessing import StandardScaler\n",
    "# For holdout\n",
    "from sklearn.model_selection import train_test_split, GridSearchCV\n",
    "# For logit\n",
    "from sklearn.linear_model import LogisticRegression\n",
    "# For Random Forest\n",
    "from sklearn.ensemble import RandomForestClassifier\n",
    "#for using Decision Tree Algoithm\n",
    "from sklearn.tree import DecisionTreeClassifier \n",
    "#for Support Vector Machine (SVM) Algorithm\n",
    "from sklearn import svm  \n",
    "# for K nearest neighbours\n",
    "from sklearn.neighbors import KNeighborsClassifier  \n",
    "# For additional metrics\n",
    "from sklearn.metrics import accuracy_score, precision_score, recall_score, f1_score, roc_auc_score, roc_curve, auc, confusion_matrix, ConfusionMatrixDisplay, classification_report\n",
    "\n",
    "\n",
    "\n",
    "import warnings\n",
    "# Ignore all warnings\n",
    "warnings.filterwarnings(\"ignore\")\n",
    "\n",
    "np.set_printoptions(suppress = True, formatter = {'float_kind':'{:f}'.format})\n",
    "pd.set_option('display.float_format', lambda x: '%.3f' % x)"
   ]
  },
  {
   "cell_type": "code",
   "execution_count": 2,
   "id": "8eaef3a2",
   "metadata": {},
   "outputs": [],
   "source": [
    "# Read Data\n",
    "# DATA source : https://www.kaggle.com/datasets/uciml/red-wine-quality-cortez-et-al-2009/\n",
    "\n",
    "wine_data = pd.read_csv('winequality_red.csv')"
   ]
  },
  {
   "cell_type": "code",
   "execution_count": 3,
   "id": "e537a600",
   "metadata": {},
   "outputs": [
    {
     "data": {
      "text/html": [
       "<div>\n",
       "<style scoped>\n",
       "    .dataframe tbody tr th:only-of-type {\n",
       "        vertical-align: middle;\n",
       "    }\n",
       "\n",
       "    .dataframe tbody tr th {\n",
       "        vertical-align: top;\n",
       "    }\n",
       "\n",
       "    .dataframe thead th {\n",
       "        text-align: right;\n",
       "    }\n",
       "</style>\n",
       "<table border=\"1\" class=\"dataframe\">\n",
       "  <thead>\n",
       "    <tr style=\"text-align: right;\">\n",
       "      <th></th>\n",
       "      <th>count</th>\n",
       "      <th>mean</th>\n",
       "      <th>std</th>\n",
       "      <th>min</th>\n",
       "      <th>25%</th>\n",
       "      <th>50%</th>\n",
       "      <th>75%</th>\n",
       "      <th>max</th>\n",
       "    </tr>\n",
       "  </thead>\n",
       "  <tbody>\n",
       "    <tr>\n",
       "      <th>fixed_acidity</th>\n",
       "      <td>1599.000</td>\n",
       "      <td>8.320</td>\n",
       "      <td>1.741</td>\n",
       "      <td>4.600</td>\n",
       "      <td>7.100</td>\n",
       "      <td>7.900</td>\n",
       "      <td>9.200</td>\n",
       "      <td>15.900</td>\n",
       "    </tr>\n",
       "    <tr>\n",
       "      <th>volatile_acidity</th>\n",
       "      <td>1599.000</td>\n",
       "      <td>0.528</td>\n",
       "      <td>0.179</td>\n",
       "      <td>0.120</td>\n",
       "      <td>0.390</td>\n",
       "      <td>0.520</td>\n",
       "      <td>0.640</td>\n",
       "      <td>1.580</td>\n",
       "    </tr>\n",
       "    <tr>\n",
       "      <th>citric_acid</th>\n",
       "      <td>1599.000</td>\n",
       "      <td>0.271</td>\n",
       "      <td>0.195</td>\n",
       "      <td>0.000</td>\n",
       "      <td>0.090</td>\n",
       "      <td>0.260</td>\n",
       "      <td>0.420</td>\n",
       "      <td>1.000</td>\n",
       "    </tr>\n",
       "    <tr>\n",
       "      <th>residual_sugar</th>\n",
       "      <td>1599.000</td>\n",
       "      <td>2.539</td>\n",
       "      <td>1.410</td>\n",
       "      <td>0.900</td>\n",
       "      <td>1.900</td>\n",
       "      <td>2.200</td>\n",
       "      <td>2.600</td>\n",
       "      <td>15.500</td>\n",
       "    </tr>\n",
       "    <tr>\n",
       "      <th>chlorides</th>\n",
       "      <td>1599.000</td>\n",
       "      <td>0.087</td>\n",
       "      <td>0.047</td>\n",
       "      <td>0.012</td>\n",
       "      <td>0.070</td>\n",
       "      <td>0.079</td>\n",
       "      <td>0.090</td>\n",
       "      <td>0.611</td>\n",
       "    </tr>\n",
       "    <tr>\n",
       "      <th>free_sulfur_dioxide</th>\n",
       "      <td>1599.000</td>\n",
       "      <td>15.875</td>\n",
       "      <td>10.460</td>\n",
       "      <td>1.000</td>\n",
       "      <td>7.000</td>\n",
       "      <td>14.000</td>\n",
       "      <td>21.000</td>\n",
       "      <td>72.000</td>\n",
       "    </tr>\n",
       "    <tr>\n",
       "      <th>total_sulfur_dioxide</th>\n",
       "      <td>1599.000</td>\n",
       "      <td>46.468</td>\n",
       "      <td>32.895</td>\n",
       "      <td>6.000</td>\n",
       "      <td>22.000</td>\n",
       "      <td>38.000</td>\n",
       "      <td>62.000</td>\n",
       "      <td>289.000</td>\n",
       "    </tr>\n",
       "    <tr>\n",
       "      <th>density</th>\n",
       "      <td>1599.000</td>\n",
       "      <td>0.997</td>\n",
       "      <td>0.002</td>\n",
       "      <td>0.990</td>\n",
       "      <td>0.996</td>\n",
       "      <td>0.997</td>\n",
       "      <td>0.998</td>\n",
       "      <td>1.004</td>\n",
       "    </tr>\n",
       "    <tr>\n",
       "      <th>pH</th>\n",
       "      <td>1599.000</td>\n",
       "      <td>3.311</td>\n",
       "      <td>0.154</td>\n",
       "      <td>2.740</td>\n",
       "      <td>3.210</td>\n",
       "      <td>3.310</td>\n",
       "      <td>3.400</td>\n",
       "      <td>4.010</td>\n",
       "    </tr>\n",
       "    <tr>\n",
       "      <th>sulphates</th>\n",
       "      <td>1599.000</td>\n",
       "      <td>0.658</td>\n",
       "      <td>0.170</td>\n",
       "      <td>0.330</td>\n",
       "      <td>0.550</td>\n",
       "      <td>0.620</td>\n",
       "      <td>0.730</td>\n",
       "      <td>2.000</td>\n",
       "    </tr>\n",
       "    <tr>\n",
       "      <th>alcohol</th>\n",
       "      <td>1599.000</td>\n",
       "      <td>10.423</td>\n",
       "      <td>1.066</td>\n",
       "      <td>8.400</td>\n",
       "      <td>9.500</td>\n",
       "      <td>10.200</td>\n",
       "      <td>11.100</td>\n",
       "      <td>14.900</td>\n",
       "    </tr>\n",
       "    <tr>\n",
       "      <th>good</th>\n",
       "      <td>1599.000</td>\n",
       "      <td>0.136</td>\n",
       "      <td>0.343</td>\n",
       "      <td>0.000</td>\n",
       "      <td>0.000</td>\n",
       "      <td>0.000</td>\n",
       "      <td>0.000</td>\n",
       "      <td>1.000</td>\n",
       "    </tr>\n",
       "  </tbody>\n",
       "</table>\n",
       "</div>"
      ],
      "text/plain": [
       "                        count   mean    std   min    25%    50%    75%     max\n",
       "fixed_acidity        1599.000  8.320  1.741 4.600  7.100  7.900  9.200  15.900\n",
       "volatile_acidity     1599.000  0.528  0.179 0.120  0.390  0.520  0.640   1.580\n",
       "citric_acid          1599.000  0.271  0.195 0.000  0.090  0.260  0.420   1.000\n",
       "residual_sugar       1599.000  2.539  1.410 0.900  1.900  2.200  2.600  15.500\n",
       "chlorides            1599.000  0.087  0.047 0.012  0.070  0.079  0.090   0.611\n",
       "free_sulfur_dioxide  1599.000 15.875 10.460 1.000  7.000 14.000 21.000  72.000\n",
       "total_sulfur_dioxide 1599.000 46.468 32.895 6.000 22.000 38.000 62.000 289.000\n",
       "density              1599.000  0.997  0.002 0.990  0.996  0.997  0.998   1.004\n",
       "pH                   1599.000  3.311  0.154 2.740  3.210  3.310  3.400   4.010\n",
       "sulphates            1599.000  0.658  0.170 0.330  0.550  0.620  0.730   2.000\n",
       "alcohol              1599.000 10.423  1.066 8.400  9.500 10.200 11.100  14.900\n",
       "good                 1599.000  0.136  0.343 0.000  0.000  0.000  0.000   1.000"
      ]
     },
     "execution_count": 3,
     "metadata": {},
     "output_type": "execute_result"
    }
   ],
   "source": [
    "# Describe the data\n",
    "wine_data.describe().T"
   ]
  },
  {
   "cell_type": "markdown",
   "id": "15e1d34d",
   "metadata": {},
   "source": [
    "EDA:\n",
    "1 - Check missing Values \n",
    "2 - Check dtypes to see if we need to encode anything.\n",
    "3 - Check if we have any columns that are only contains one value. \n",
    "4 - Correlation Matrix and Heatmap for checking the relationship between dep and indep vars. \n",
    "5 - Check outliers."
   ]
  },
  {
   "cell_type": "code",
   "execution_count": 4,
   "id": "667453d9",
   "metadata": {},
   "outputs": [
    {
     "name": "stdout",
     "output_type": "stream",
     "text": [
      "No missings Found in the data!\n"
     ]
    }
   ],
   "source": [
    "# Check missing Values\n",
    "missing = [x for x in wine_data.columns if wine_data[x].isnull().sum() > 0]\n",
    "\n",
    "if len(missing):\n",
    "    print(f'Missings Found for \\n{missing}')\n",
    "else:\n",
    "    print('No missings Found in the data!')"
   ]
  },
  {
   "cell_type": "code",
   "execution_count": 5,
   "id": "9741aea2",
   "metadata": {},
   "outputs": [
    {
     "name": "stdout",
     "output_type": "stream",
     "text": [
      "All columns are numeric\n"
     ]
    }
   ],
   "source": [
    "# 2 - Check dtypes to see if we need to encode anything. \n",
    "\n",
    "non_numeric_cols = wine_data.select_dtypes(exclude=[np.number]).columns.to_list()\n",
    "numeric_cols = wine_data.select_dtypes(include=[np.number]).columns.to_list()\n",
    "if non_numeric_cols:\n",
    "    print(f'Columns needs to be encoded {non_numeric_cols}')\n",
    "else:\n",
    "    print('All columns are numeric')"
   ]
  },
  {
   "cell_type": "code",
   "execution_count": 6,
   "id": "dc0b80c1",
   "metadata": {
    "scrolled": true
   },
   "outputs": [
    {
     "name": "stdout",
     "output_type": "stream",
     "text": [
      "No columns are constant\n"
     ]
    }
   ],
   "source": [
    "# Check if we have any columns that are only contains constant_value. \n",
    "\n",
    "constant_value_lst = [x for x in wine_data.columns if wine_data[x].nunique() <= 1]\n",
    "if constant_value_lst:\n",
    "    print(f'Constant column lst {constant_value_lst}')\n",
    "else:\n",
    "    print('No columns are constant')"
   ]
  },
  {
   "cell_type": "code",
   "execution_count": 7,
   "id": "8d6477e0",
   "metadata": {
    "scrolled": false
   },
   "outputs": [
    {
     "data": {
      "image/png": "[encoded data removed]",
      "text/plain": [
       "<Figure size 720x720 with 2 Axes>"
      ]
     },
     "metadata": {
      "needs_background": "light"
     },
     "output_type": "display_data"
    }
   ],
   "source": [
    "# 4 - Correlation Matrix and Heatmap for checking the relationship between dep and indep vars. \n",
    "correlation = wine_data.corr()\n",
    "plt.figure(figsize=(10, 10))\n",
    "sns.heatmap(correlation, annot=True)\n",
    "plt.show()"
   ]
  },
  {
   "cell_type": "code",
   "execution_count": 8,
   "id": "260b55f3",
   "metadata": {},
   "outputs": [
    {
     "name": "stdout",
     "output_type": "stream",
     "text": [
      "Before outlier handling Ratio of good wine count in the data 0.1357098186366479 and count 217\n"
     ]
    }
   ],
   "source": [
    "# 5 - Check outliers. and check the ratio of Good wines to not\n",
    "ratio = wine_data.loc[wine_data['good'] == 1, 'good'].count() / len(wine_data['good'])\n",
    "count = wine_data.loc[wine_data['good'] == 1, 'good'].count()\n",
    "print(f'Before outlier handling Ratio of good wine count in the data {ratio} and count {count}')\n",
    "\n",
    "# Ratio is a bit low, we can consider about oversampling or undersampling\n",
    "\n",
    "# IQR (Interquartile Range) Method for outliers.\n",
    "\n",
    "# "
   ]
  },
  {
   "cell_type": "code",
   "execution_count": 9,
   "id": "69bfe000",
   "metadata": {},
   "outputs": [
    {
     "data": {
      "image/png": "[encoded data removed]",
      "text/plain": [
       "<Figure size 432x288 with 1 Axes>"
      ]
     },
     "metadata": {
      "needs_background": "light"
     },
     "output_type": "display_data"
    },
    {
     "name": "stdout",
     "output_type": "stream",
     "text": [
      "Outliers for fixed_acidity: []\n"
     ]
    },
    {
     "data": {
      "image/png": "[encoded data removed]",
      "text/plain": [
       "<Figure size 432x288 with 1 Axes>"
      ]
     },
     "metadata": {
      "needs_background": "light"
     },
     "output_type": "display_data"
    },
    {
     "name": "stdout",
     "output_type": "stream",
     "text": [
      "Outliers for volatile_acidity: []\n"
     ]
    },
    {
     "data": {
      "image/png": "[encoded data removed]",
      "text/plain": [
       "<Figure size 432x288 with 1 Axes>"
      ]
     },
     "metadata": {
      "needs_background": "light"
     },
     "output_type": "display_data"
    },
    {
     "name": "stdout",
     "output_type": "stream",
     "text": [
      "Outliers for citric_acid: []\n"
     ]
    },
    {
     "data": {
      "image/png": "[encoded data removed]",
      "text/plain": [
       "<Figure size 432x288 with 1 Axes>"
      ]
     },
     "metadata": {
      "needs_background": "light"
     },
     "output_type": "display_data"
    },
    {
     "name": "stdout",
     "output_type": "stream",
     "text": [
      "Outliers for residual_sugar: [10.7, 11.0, 11.0, 15.5, 12.9, 13.4, 15.4, 15.4, 13.8, 13.8, 13.9]\n",
      "Outliers deleted\n"
     ]
    },
    {
     "data": {
      "image/png": "[encoded data removed]",
      "text/plain": [
       "<Figure size 432x288 with 1 Axes>"
      ]
     },
     "metadata": {
      "needs_background": "light"
     },
     "output_type": "display_data"
    },
    {
     "name": "stdout",
     "output_type": "stream",
     "text": [
      "Outliers for chlorides: [0.358, 0.368, 0.341, 0.332, 0.464, 0.401, 0.467, 0.236, 0.61, 0.36, 0.27, 0.337, 0.263, 0.611, 0.343, 0.413, 0.25, 0.422, 0.387, 0.415, 0.243, 0.241, 0.414, 0.369, 0.403, 0.414, 0.415, 0.415, 0.267, 0.235, 0.23]\n",
      "Outliers deleted\n"
     ]
    },
    {
     "data": {
      "image/png": "[encoded data removed]",
      "text/plain": [
       "<Figure size 432x288 with 1 Axes>"
      ]
     },
     "metadata": {
      "needs_background": "light"
     },
     "output_type": "display_data"
    },
    {
     "name": "stdout",
     "output_type": "stream",
     "text": [
      "Outliers for free_sulfur_dioxide: []\n"
     ]
    },
    {
     "data": {
      "image/png": "[encoded data removed]",
      "text/plain": [
       "<Figure size 432x288 with 1 Axes>"
      ]
     },
     "metadata": {
      "needs_background": "light"
     },
     "output_type": "display_data"
    },
    {
     "name": "stdout",
     "output_type": "stream",
     "text": [
      "Outliers for total_sulfur_dioxide: [278.0, 289.0]\n",
      "Outliers deleted\n"
     ]
    },
    {
     "data": {
      "image/png": "[encoded data removed]",
      "text/plain": [
       "<Figure size 432x288 with 1 Axes>"
      ]
     },
     "metadata": {
      "needs_background": "light"
     },
     "output_type": "display_data"
    },
    {
     "name": "stdout",
     "output_type": "stream",
     "text": [
      "Outliers for density: []\n"
     ]
    },
    {
     "data": {
      "image/png": "[encoded data removed]",
      "text/plain": [
       "<Figure size 432x288 with 1 Axes>"
      ]
     },
     "metadata": {
      "needs_background": "light"
     },
     "output_type": "display_data"
    },
    {
     "name": "stdout",
     "output_type": "stream",
     "text": [
      "Outliers for pH: []\n"
     ]
    },
    {
     "data": {
      "image/png": "[encoded data removed]",
      "text/plain": [
       "<Figure size 432x288 with 1 Axes>"
      ]
     },
     "metadata": {
      "needs_background": "light"
     },
     "output_type": "display_data"
    },
    {
     "name": "stdout",
     "output_type": "stream",
     "text": [
      "Outliers for sulphates: [1.95, 1.95, 1.98, 1.62]\n",
      "Outliers deleted\n"
     ]
    },
    {
     "data": {
      "image/png": "[encoded data removed]",
      "text/plain": [
       "<Figure size 432x288 with 1 Axes>"
      ]
     },
     "metadata": {
      "needs_background": "light"
     },
     "output_type": "display_data"
    },
    {
     "name": "stdout",
     "output_type": "stream",
     "text": [
      "Outliers for alcohol: []\n",
      "\n"
     ]
    }
   ],
   "source": [
    "# Create a box plot to visualize the data\n",
    "\n",
    "for cols in wine_data.columns:\n",
    "    # no need to check dep var\n",
    "    if cols == 'good':\n",
    "        continue\n",
    "    plt.boxplot(wine_data[cols])\n",
    "    plt.title(f'Box Plot of Data {cols}')\n",
    "    plt.show()\n",
    "\n",
    "    # Calculate the IQR and identify outliers\n",
    "    Q1 = np.percentile(wine_data[cols], 5)\n",
    "    Q3 = np.percentile(wine_data[cols], 95)\n",
    "    IQR = Q3 - Q1\n",
    "\n",
    "    lower_bound = Q1 - 1.5 * IQR\n",
    "    upper_bound = Q3 + 1.5 * IQR\n",
    "\n",
    "    outliers = [x for x in wine_data[cols] if x < lower_bound or x > upper_bound]\n",
    "    print(f\"Outliers for {cols}: {outliers}\")\n",
    "    if outliers:\n",
    "        wine_data = wine_data[(wine_data[cols] >= lower_bound) & (wine_data[cols] <= upper_bound)]\n",
    "        print('Outliers deleted')\n",
    "        \n",
    "print()"
   ]
  },
  {
   "cell_type": "code",
   "execution_count": 10,
   "id": "116c21e4",
   "metadata": {},
   "outputs": [
    {
     "name": "stdout",
     "output_type": "stream",
     "text": [
      "After outlier handling Ratio of good wine count in the data 0.13797549967762734 and count 214\n"
     ]
    }
   ],
   "source": [
    "# 5 - Check outliers. and check the ratio of Good wines to not\n",
    "ratio = wine_data.loc[wine_data['good'] == 1, 'good'].count() / len(wine_data['good'])\n",
    "count = wine_data.loc[wine_data['good'] == 1, 'good'].count()\n",
    "print(f'After outlier handling Ratio of good wine count in the data {ratio} and count {count}')\n",
    "\n",
    "# Ratio is a bit low, we can consider about oversampling or undersampling\n"
   ]
  },
  {
   "cell_type": "code",
   "execution_count": 11,
   "id": "19514d32",
   "metadata": {},
   "outputs": [
    {
     "data": {
      "text/html": [
       "<div>\n",
       "<style scoped>\n",
       "    .dataframe tbody tr th:only-of-type {\n",
       "        vertical-align: middle;\n",
       "    }\n",
       "\n",
       "    .dataframe tbody tr th {\n",
       "        vertical-align: top;\n",
       "    }\n",
       "\n",
       "    .dataframe thead th {\n",
       "        text-align: right;\n",
       "    }\n",
       "</style>\n",
       "<table border=\"1\" class=\"dataframe\">\n",
       "  <thead>\n",
       "    <tr style=\"text-align: right;\">\n",
       "      <th></th>\n",
       "      <th>VIF</th>\n",
       "      <th>features</th>\n",
       "    </tr>\n",
       "  </thead>\n",
       "  <tbody>\n",
       "    <tr>\n",
       "      <th>0</th>\n",
       "      <td>1851878.904</td>\n",
       "      <td>const</td>\n",
       "    </tr>\n",
       "    <tr>\n",
       "      <th>1</th>\n",
       "      <td>8.048</td>\n",
       "      <td>fixed_acidity</td>\n",
       "    </tr>\n",
       "    <tr>\n",
       "      <th>2</th>\n",
       "      <td>1.830</td>\n",
       "      <td>volatile_acidity</td>\n",
       "    </tr>\n",
       "    <tr>\n",
       "      <th>3</th>\n",
       "      <td>3.129</td>\n",
       "      <td>citric_acid</td>\n",
       "    </tr>\n",
       "    <tr>\n",
       "      <th>4</th>\n",
       "      <td>1.659</td>\n",
       "      <td>residual_sugar</td>\n",
       "    </tr>\n",
       "    <tr>\n",
       "      <th>5</th>\n",
       "      <td>1.211</td>\n",
       "      <td>chlorides</td>\n",
       "    </tr>\n",
       "    <tr>\n",
       "      <th>6</th>\n",
       "      <td>2.007</td>\n",
       "      <td>free_sulfur_dioxide</td>\n",
       "    </tr>\n",
       "    <tr>\n",
       "      <th>7</th>\n",
       "      <td>2.232</td>\n",
       "      <td>total_sulfur_dioxide</td>\n",
       "    </tr>\n",
       "    <tr>\n",
       "      <th>8</th>\n",
       "      <td>6.685</td>\n",
       "      <td>density</td>\n",
       "    </tr>\n",
       "    <tr>\n",
       "      <th>9</th>\n",
       "      <td>3.266</td>\n",
       "      <td>pH</td>\n",
       "    </tr>\n",
       "    <tr>\n",
       "      <th>10</th>\n",
       "      <td>1.282</td>\n",
       "      <td>sulphates</td>\n",
       "    </tr>\n",
       "    <tr>\n",
       "      <th>11</th>\n",
       "      <td>3.178</td>\n",
       "      <td>alcohol</td>\n",
       "    </tr>\n",
       "  </tbody>\n",
       "</table>\n",
       "</div>"
      ],
      "text/plain": [
       "           VIF              features\n",
       "0  1851878.904                 const\n",
       "1        8.048         fixed_acidity\n",
       "2        1.830      volatile_acidity\n",
       "3        3.129           citric_acid\n",
       "4        1.659        residual_sugar\n",
       "5        1.211             chlorides\n",
       "6        2.007   free_sulfur_dioxide\n",
       "7        2.232  total_sulfur_dioxide\n",
       "8        6.685               density\n",
       "9        3.266                    pH\n",
       "10       1.282             sulphates\n",
       "11       3.178               alcohol"
      ]
     },
     "execution_count": 11,
     "metadata": {},
     "output_type": "execute_result"
    }
   ],
   "source": [
    "# the target column (in this case 'good') should not be included in variables\n",
    "# Categorical variables may or maynot be added if any\n",
    "columns = [x for x in wine_data.columns if x!='good']\n",
    "variables = wine_data[columns]\n",
    "\n",
    "# The constant term represents the intercept in a linear regression model.\n",
    "# It's added because VIF calculations assume that a linear regression is performed.\n",
    "x = add_constant(variables)\n",
    "\n",
    "vif = pd.DataFrame()\n",
    "vif['VIF'] = [variance_inflation_factor(x.values,i) for i in range (x.shape[1])]\n",
    "vif['features'] = x.columns\n",
    "vif\n",
    "# if any of them were higher than 10 I would delete it to prevent multicollinearity (not the constant)"
   ]
  },
  {
   "cell_type": "code",
   "execution_count": null,
   "id": "98774c4e",
   "metadata": {},
   "outputs": [],
   "source": []
  },
  {
   "cell_type": "code",
   "execution_count": 12,
   "id": "02cbf257",
   "metadata": {
    "scrolled": true
   },
   "outputs": [],
   "source": [
    "\"\"\"\n",
    "\n",
    "Now the modeling part\n",
    "Logistic Regression is used with grid search to find best hyperparameters.\n",
    "\n",
    "\"\"\"\n",
    "# Now we need to scale the data, I'm going to use standard scaler. z transformation\n",
    "# Dep_Var\n",
    "x = wine_data.drop('good', axis =1)\n",
    "\n",
    "# indep_var\n",
    "y = wine_data['good']\n",
    "\n",
    "scaler = StandardScaler()\n",
    "\n",
    "scaler.fit(x)\n",
    "scaled_x = scaler.transform(x)\n",
    "\n",
    "x_train, x_test, y_train, y_test = train_test_split(scaled_x, y , test_size = 0.3, random_state  = 999)\n"
   ]
  },
  {
   "cell_type": "code",
   "execution_count": 13,
   "id": "f2efb7ba",
   "metadata": {},
   "outputs": [
    {
     "name": "stdout",
     "output_type": "stream",
     "text": [
      "Best Hyperparameters: {'C': 0.5, 'l1_ratio': 0.2, 'penalty': 'l2'}\n",
      "Test accuracy: 0.8626609442060086\n"
     ]
    },
    {
     "data": {
      "image/png": "[encoded data removed]",
      "text/plain": [
       "<Figure size 432x288 with 2 Axes>"
      ]
     },
     "metadata": {
      "needs_background": "light"
     },
     "output_type": "display_data"
    },
    {
     "name": "stdout",
     "output_type": "stream",
     "text": [
      "              precision    recall  f1-score   support\n",
      "\n",
      "           0       0.89      0.95      0.92       402\n",
      "           1       0.50      0.30      0.37        64\n",
      "\n",
      "    accuracy                           0.86       466\n",
      "   macro avg       0.70      0.62      0.65       466\n",
      "weighted avg       0.84      0.86      0.85       466\n",
      "\n"
     ]
    }
   ],
   "source": [
    "# Create regression instance, saga solver because l1 and l2 support.\n",
    "log_reg = LogisticRegression(solver='saga') \n",
    "\n",
    "# Define a grid of hyperparameters to search\n",
    "# # Regularization type and C hyperparameter\n",
    "parameters = {\n",
    "    'penalty': ['l1', 'l2', 'elasticnet'],           \n",
    "    'C': [0.001, 0.01, 0.5, 0.1, 1, 10],\n",
    "    'l1_ratio': [0.2, 0.5, 0.8]}\n",
    "\n",
    "# Perform Grid Search with Cross-Validation\n",
    "grid_search = GridSearchCV(estimator = log_reg, param_grid = parameters, scoring = 'roc_auc', cv=5, verbose=0)\n",
    "grid_search.fit(x_train, y_train)\n",
    "\n",
    "\n",
    "# Get the best hyperparameters\n",
    "best_params = grid_search.best_params_\n",
    "print(\"Best Hyperparameters:\", best_params)\n",
    "\n",
    "# Fit the model with the best hyperparameters on the training data\n",
    "log_Reg2 = LogisticRegression(**best_params)\n",
    "log_Reg2.fit(x_train, y_train)\n",
    "\n",
    "# Evaluate the model on the test data\n",
    "test_accuracy = log_Reg2.score(x_test, y_test)\n",
    "print(\"Test accuracy:\", test_accuracy)\n",
    "\n",
    "## reviewing the results\n",
    "cv_results = pd.DataFrame(grid_search.cv_results_)\n",
    "\n",
    "y_pred_logit = log_Reg2.predict(x_test)\n",
    "# Calculate the confusion matrix\n",
    "conf_matrix = confusion_matrix(y_pred_logit, y_test)\n",
    "disp = ConfusionMatrixDisplay(confusion_matrix=conf_matrix, display_labels=log_Reg2.classes_)\n",
    "\n",
    "disp.plot()\n",
    "plt.show()\n",
    "\n",
    "print(classification_report(y_test, y_pred_logit))"
   ]
  },
  {
   "cell_type": "code",
   "execution_count": 14,
   "id": "483d8558",
   "metadata": {},
   "outputs": [
    {
     "data": {
      "text/plain": [
       "array([-2.941034])"
      ]
     },
     "execution_count": 14,
     "metadata": {},
     "output_type": "execute_result"
    }
   ],
   "source": [
    "log_Reg2.intercept_"
   ]
  },
  {
   "cell_type": "code",
   "execution_count": 17,
   "id": "1fb4d426",
   "metadata": {},
   "outputs": [
    {
     "name": "stdout",
     "output_type": "stream",
     "text": [
      "\n",
      "System:\n",
      "    python: 3.7.9 (default, Aug 31 2020, 17:10:11) [MSC v.1916 64 bit (AMD64)]\n",
      "executable: C:\\Users\\gulaoz01\\.conda\\envs\\local_spark_env\\python.exe\n",
      "   machine: Windows-10-10.0.19041-SP0\n",
      "\n",
      "Python dependencies:\n",
      "          pip: 21.1.1\n",
      "   setuptools: 52.0.0.post20210125\n",
      "      sklearn: 0.24.2\n",
      "        numpy: 1.20.2\n",
      "        scipy: 1.6.2\n",
      "       Cython: None\n",
      "       pandas: 1.2.4\n",
      "   matplotlib: 3.1.3\n",
      "       joblib: 1.0.1\n",
      "threadpoolctl: 2.1.0\n",
      "\n",
      "Built with OpenMP: True\n"
     ]
    }
   ],
   "source": [
    "import sklearn\n",
    "sklearn.show_versions()"
   ]
  },
  {
   "cell_type": "code",
   "execution_count": null,
   "id": "d638a045",
   "metadata": {},
   "outputs": [],
   "source": [
    "# F1-score\n",
    "f1 = f1_score(y_test, y_pred_logit)\n",
    "print(\"F1-Score:\", f1)\n",
    "\n",
    "# ROC-AUC Score\n",
    "y_probs = log_Reg2.predict_proba(x_test)\n",
    "roc_auc = roc_auc_score(y_test, y_probs[:, 1])\n",
    "print(\"ROC-AUC Score:\", roc_auc)\n",
    "\n",
    "# ROC Curve\n",
    "fpr, tpr, thresholds = roc_curve(y_test, y_probs[:, 1])\n",
    "roc_auc_curve = auc(fpr, tpr)\n",
    "\n",
    "# Plot ROC Curve\n",
    "plt.figure()\n",
    "plt.plot(fpr, tpr, color='darkorange', lw=2, label='ROC curve (area = %0.2f)' % roc_auc_curve)\n",
    "plt.plot([0, 1], [0, 1], color='navy', lw=2, linestyle='--')\n",
    "plt.xlim([0.0, 1.0])\n",
    "plt.ylim([0.0, 1.05])\n",
    "plt.xlabel('False Positive Rate')\n",
    "plt.ylabel('True Positive Rate')\n",
    "plt.title('Receiver Operating Characteristic (ROC)')\n",
    "plt.legend(loc=\"lower right\")\n",
    "plt.show()\n"
   ]
  },
  {
   "cell_type": "code",
   "execution_count": null,
   "id": "21c620b9",
   "metadata": {},
   "outputs": [],
   "source": [
    "# Decision Tree\n",
    "dtree = DecisionTreeClassifier()\n",
    "dtree.fit(x_train,y_train)\n",
    "y_pred_dtree = dtree.predict(x_test)\n",
    "acc_dtree_1 = accuracy_score(y_pred_dtree, y_test)\n",
    "print(acc_dtree_1)\n",
    "\n",
    "# Calculate the confusion matrix\n",
    "conf_matrix = confusion_matrix(y_pred_dtree, y_test)\n",
    "disp = ConfusionMatrixDisplay(confusion_matrix=conf_matrix, display_labels=dtree.classes_)\n",
    "\n",
    "disp.plot()\n",
    "plt.show()\n",
    "\n",
    "print(classification_report(y_test, y_pred_dtree))"
   ]
  },
  {
   "cell_type": "code",
   "execution_count": null,
   "id": "32c57968",
   "metadata": {},
   "outputs": [],
   "source": [
    "# Random Forest\n",
    "r_forest = RandomForestClassifier(n_estimators=100)\n",
    "# we train the algorithm with the training data and the training output\n",
    "r_forest.fit(x_train,y_train)\n",
    "# now we pass the testing data to the trained algorithm\n",
    "y_pred_rf = r_forest.predict(x_test)\n",
    "# Calc Accuracy\n",
    "acc_rf = accuracy_score(y_pred_rf, y_test)\n",
    "print(acc_rf)\n",
    "\n",
    "\n",
    "# Calculate the confusion matrix\n",
    "conf_matrix = confusion_matrix(y_pred_rf, y_test)\n",
    "disp = ConfusionMatrixDisplay(confusion_matrix=conf_matrix, display_labels=r_forest.classes_)\n",
    "\n",
    "disp.plot()\n",
    "plt.show()\n",
    "\n",
    "print(classification_report(y_test, y_pred_rf))"
   ]
  },
  {
   "cell_type": "code",
   "execution_count": null,
   "id": "ffbe19cc",
   "metadata": {},
   "outputs": [],
   "source": [
    "#select the algorithm\n",
    "sv = svm.SVC() \n",
    "# we train the algorithm with the training data and the training output\n",
    "sv.fit(x_train,y_train) \n",
    "# now we pass the testing data to the trained algorithm\n",
    "y_pred_svm = sv.predict(x_test) \n",
    "# Calc Accuracy\n",
    "acc_svm = accuracy_score(y_pred_svm, y_test)\n",
    "print(acc_svm)\n",
    "\n",
    "# Calculate the confusion matrix\n",
    "conf_matrix = confusion_matrix(y_pred_svm, y_test)\n",
    "disp = ConfusionMatrixDisplay(confusion_matrix=conf_matrix, display_labels=sv.classes_)\n",
    "\n",
    "disp.plot()\n",
    "plt.show()\n",
    "\n",
    "print(classification_report(y_test, y_pred_svm))"
   ]
  },
  {
   "cell_type": "code",
   "execution_count": null,
   "id": "3efe89af",
   "metadata": {},
   "outputs": [],
   "source": [
    "knc = KNeighborsClassifier()\n",
    "knc.fit(x_train,y_train)\n",
    "y_pred_knc = knc.predict(x_test)\n",
    "acc_knc = accuracy_score(y_pred_knc, y_test)\n",
    "print(acc_knc)\n",
    "\n",
    "# Calculate the confusion matrix\n",
    "conf_matrix = confusion_matrix(y_pred_svm, y_test)\n",
    "disp = ConfusionMatrixDisplay(confusion_matrix=conf_matrix, display_labels=knc.classes_)\n",
    "\n",
    "disp.plot()\n",
    "plt.show()\n",
    "\n",
    "print(classification_report(y_test, y_pred_knc))"
   ]
  },
  {
   "cell_type": "code",
   "execution_count": null,
   "id": "34f5f2a9",
   "metadata": {},
   "outputs": [],
   "source": [
    "# Simple Random forest\n",
    "\n",
    "rfc = RandomForestClassifier(n_estimators=200)\n",
    "\n",
    "rfc.fit(x_train, y_train)\n",
    "y_pred_rfc = rfc.predict(x_test)\n",
    "\n",
    "# Calculate the confusion matrix\n",
    "conf_matrix = confusion_matrix(y_pred_rfc, y_test)\n",
    "disp = ConfusionMatrixDisplay(confusion_matrix=conf_matrix, display_labels=rfc.classes_)\n",
    "\n",
    "disp.plot()\n",
    "plt.show()\n",
    "\n",
    "print(classification_report(y_test, y_pred_rfc))"
   ]
  },
  {
   "cell_type": "code",
   "execution_count": null,
   "id": "2f50d053",
   "metadata": {},
   "outputs": [],
   "source": [
    "#ensemble methods\n",
    "\n",
    "rfc = RandomForestClassifier(n_estimators=200)\n",
    "\n",
    "param_grid = {\n",
    "    'n_estimators': [100, 200, 300],\n",
    "    'max_depth': [10, 20, 30],\n",
    "    'min_samples_leaf': [1, 2, 4]\n",
    "}\n",
    "\n",
    "grid_search = GridSearchCV(estimator=rfc, param_grid=param_grid, cv=5)\n",
    "grid_search.fit(x_train, y_train)\n",
    "rfc_tuned = grid_search.best_estimator_\n",
    "\n",
    "y_pred_rfc_tuned = rfc_tuned.predict(x_test)\n",
    "\n",
    "# Calculate the confusion matrix\n",
    "conf_matrix = confusion_matrix(y_pred_rfc_tuned, y_test)\n",
    "disp = ConfusionMatrixDisplay(confusion_matrix=conf_matrix, display_labels=rfc_tuned.classes_)\n",
    "\n",
    "disp.plot()\n",
    "plt.show()\n",
    "\n",
    "print(classification_report(y_test, y_pred_rfc_tuned))"
   ]
  },
  {
   "cell_type": "code",
   "execution_count": null,
   "id": "e00e1475",
   "metadata": {},
   "outputs": [],
   "source": [
    "# After comparison to some other models, LogisticRegression still gives us the highest (~92%)"
   ]
  },
  {
   "cell_type": "code",
   "execution_count": null,
   "id": "16f3d928",
   "metadata": {},
   "outputs": [],
   "source": [
    "# ensemble them together\n",
    "\n"
   ]
  }
 ],
 "metadata": {
  "celltoolbar": "Raw Cell Format",
  "kernelspec": {
   "display_name": "Python 3 (ipykernel)",
   "language": "python",
   "name": "python3"
  },
  "language_info": {
   "codemirror_mode": {
    "name": "ipython",
    "version": 3
   },
   "file_extension": ".py",
   "mimetype": "text/x-python",
   "name": "python",
   "nbconvert_exporter": "python",
   "pygments_lexer": "ipython3",
   "version": "3.9.18"
  }
 },
 "nbformat": 4,
 "nbformat_minor": 5
}
